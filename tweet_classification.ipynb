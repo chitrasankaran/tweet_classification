{
 "cells": [
  {
   "cell_type": "markdown",
   "id": "1d4eec07",
   "metadata": {},
   "source": [
    "# WowSo Twitter Classification Dataset"
   ]
  },
  {
   "cell_type": "code",
   "execution_count": 1,
   "id": "0edbea84",
   "metadata": {},
   "outputs": [
    {
     "name": "stdout",
     "output_type": "stream",
     "text": [
      "Requirement already satisfied: swifter in c:\\users\\subbu\\anaconda3\\lib\\site-packages (1.1.2)\n",
      "Requirement already satisfied: ipywidgets>=7.0.0 in c:\\users\\subbu\\anaconda3\\lib\\site-packages (from swifter) (8.0.4)\n",
      "Requirement already satisfied: cloudpickle>=0.2.2 in c:\\users\\subbu\\anaconda3\\lib\\site-packages (from swifter) (2.2.1)\n",
      "Requirement already satisfied: bleach>=3.1.1 in c:\\users\\subbu\\anaconda3\\lib\\site-packages (from swifter) (4.1.0)\n",
      "Requirement already satisfied: psutil>=5.6.6 in c:\\users\\subbu\\anaconda3\\lib\\site-packages (from swifter) (5.9.0)\n",
      "Requirement already satisfied: parso>0.4.0 in c:\\users\\subbu\\anaconda3\\lib\\site-packages (from swifter) (0.7.0)\n",
      "Requirement already satisfied: pandas>=1.0.0 in c:\\users\\subbu\\anaconda3\\lib\\site-packages (from swifter) (1.5.3)\n",
      "Requirement already satisfied: tqdm>=4.33.0 in c:\\users\\subbu\\anaconda3\\lib\\site-packages (from swifter) (4.65.0)\n",
      "Requirement already satisfied: dask[dataframe]>=2.10.0 in c:\\users\\subbu\\anaconda3\\lib\\site-packages (from swifter) (2023.4.1)\n",
      "Requirement already satisfied: six>=1.9.0 in c:\\users\\subbu\\anaconda3\\lib\\site-packages (from bleach>=3.1.1->swifter) (1.16.0)\n",
      "Requirement already satisfied: webencodings in c:\\users\\subbu\\anaconda3\\lib\\site-packages (from bleach>=3.1.1->swifter) (0.5.1)\n",
      "Requirement already satisfied: packaging in c:\\users\\subbu\\anaconda3\\lib\\site-packages (from bleach>=3.1.1->swifter) (23.0)\n",
      "Requirement already satisfied: click>=8.0 in c:\\users\\subbu\\anaconda3\\lib\\site-packages (from dask[dataframe]>=2.10.0->swifter) (8.0.4)\n",
      "Requirement already satisfied: importlib-metadata>=4.13.0 in c:\\users\\subbu\\anaconda3\\lib\\site-packages (from dask[dataframe]>=2.10.0->swifter) (6.0.0)\n",
      "Requirement already satisfied: fsspec>=2021.09.0 in c:\\users\\subbu\\anaconda3\\lib\\site-packages (from dask[dataframe]>=2.10.0->swifter) (2023.4.0)\n",
      "Requirement already satisfied: toolz>=0.10.0 in c:\\users\\subbu\\anaconda3\\lib\\site-packages (from dask[dataframe]>=2.10.0->swifter) (0.12.0)\n",
      "Requirement already satisfied: partd>=1.2.0 in c:\\users\\subbu\\anaconda3\\lib\\site-packages (from dask[dataframe]>=2.10.0->swifter) (1.2.0)\n",
      "Requirement already satisfied: pyyaml>=5.3.1 in c:\\users\\subbu\\anaconda3\\lib\\site-packages (from dask[dataframe]>=2.10.0->swifter) (6.0)\n",
      "Requirement already satisfied: numpy>=1.21 in c:\\users\\subbu\\anaconda3\\lib\\site-packages (from dask[dataframe]>=2.10.0->swifter) (1.24.3)\n",
      "Requirement already satisfied: widgetsnbextension~=4.0 in c:\\users\\subbu\\anaconda3\\lib\\site-packages (from ipywidgets>=7.0.0->swifter) (4.0.5)\n",
      "Requirement already satisfied: ipython>=6.1.0 in c:\\users\\subbu\\anaconda3\\lib\\site-packages (from ipywidgets>=7.0.0->swifter) (8.12.0)\n",
      "Requirement already satisfied: ipykernel>=4.5.1 in c:\\users\\subbu\\anaconda3\\lib\\site-packages (from ipywidgets>=7.0.0->swifter) (6.19.2)\n",
      "Requirement already satisfied: jupyterlab-widgets~=3.0 in c:\\users\\subbu\\anaconda3\\lib\\site-packages (from ipywidgets>=7.0.0->swifter) (3.0.5)\n",
      "Requirement already satisfied: traitlets>=4.3.1 in c:\\users\\subbu\\anaconda3\\lib\\site-packages (from ipywidgets>=7.0.0->swifter) (5.7.1)\n",
      "Requirement already satisfied: pytz>=2020.1 in c:\\users\\subbu\\anaconda3\\lib\\site-packages (from pandas>=1.0.0->swifter) (2022.7)\n",
      "Requirement already satisfied: python-dateutil>=2.8.1 in c:\\users\\subbu\\anaconda3\\lib\\site-packages (from pandas>=1.0.0->swifter) (2.8.2)\n",
      "Requirement already satisfied: colorama in c:\\users\\subbu\\anaconda3\\lib\\site-packages (from tqdm>=4.33.0->swifter) (0.4.6)\n",
      "Requirement already satisfied: zipp>=0.5 in c:\\users\\subbu\\anaconda3\\lib\\site-packages (from importlib-metadata>=4.13.0->dask[dataframe]>=2.10.0->swifter) (3.11.0)\n",
      "Requirement already satisfied: pyzmq>=17 in c:\\users\\subbu\\anaconda3\\lib\\site-packages (from ipykernel>=4.5.1->ipywidgets>=7.0.0->swifter) (25.0.2)\n",
      "Requirement already satisfied: nest-asyncio in c:\\users\\subbu\\anaconda3\\lib\\site-packages (from ipykernel>=4.5.1->ipywidgets>=7.0.0->swifter) (1.5.6)\n",
      "Requirement already satisfied: comm>=0.1.1 in c:\\users\\subbu\\anaconda3\\lib\\site-packages (from ipykernel>=4.5.1->ipywidgets>=7.0.0->swifter) (0.1.2)\n",
      "Requirement already satisfied: jupyter-client>=6.1.12 in c:\\users\\subbu\\anaconda3\\lib\\site-packages (from ipykernel>=4.5.1->ipywidgets>=7.0.0->swifter) (8.1.0)\n",
      "Requirement already satisfied: tornado>=6.1 in c:\\users\\subbu\\anaconda3\\lib\\site-packages (from ipykernel>=4.5.1->ipywidgets>=7.0.0->swifter) (6.2)\n",
      "Requirement already satisfied: debugpy>=1.0 in c:\\users\\subbu\\anaconda3\\lib\\site-packages (from ipykernel>=4.5.1->ipywidgets>=7.0.0->swifter) (1.5.1)\n",
      "Requirement already satisfied: matplotlib-inline>=0.1 in c:\\users\\subbu\\anaconda3\\lib\\site-packages (from ipykernel>=4.5.1->ipywidgets>=7.0.0->swifter) (0.1.6)\n",
      "Requirement already satisfied: prompt-toolkit!=3.0.37,<3.1.0,>=3.0.30 in c:\\users\\subbu\\anaconda3\\lib\\site-packages (from ipython>=6.1.0->ipywidgets>=7.0.0->swifter) (3.0.36)\n",
      "Requirement already satisfied: pygments>=2.4.0 in c:\\users\\subbu\\anaconda3\\lib\\site-packages (from ipython>=6.1.0->ipywidgets>=7.0.0->swifter) (2.15.1)\n",
      "Requirement already satisfied: pickleshare in c:\\users\\subbu\\anaconda3\\lib\\site-packages (from ipython>=6.1.0->ipywidgets>=7.0.0->swifter) (0.7.5)\n",
      "Requirement already satisfied: decorator in c:\\users\\subbu\\anaconda3\\lib\\site-packages (from ipython>=6.1.0->ipywidgets>=7.0.0->swifter) (5.1.1)\n",
      "Requirement already satisfied: backcall in c:\\users\\subbu\\anaconda3\\lib\\site-packages (from ipython>=6.1.0->ipywidgets>=7.0.0->swifter) (0.2.0)\n",
      "Requirement already satisfied: jedi>=0.16 in c:\\users\\subbu\\anaconda3\\lib\\site-packages (from ipython>=6.1.0->ipywidgets>=7.0.0->swifter) (0.17.1)\n",
      "Requirement already satisfied: typing-extensions in c:\\users\\subbu\\anaconda3\\lib\\site-packages (from ipython>=6.1.0->ipywidgets>=7.0.0->swifter) (4.5.0)\n",
      "Requirement already satisfied: stack-data in c:\\users\\subbu\\anaconda3\\lib\\site-packages (from ipython>=6.1.0->ipywidgets>=7.0.0->swifter) (0.2.0)\n",
      "Requirement already satisfied: locket in c:\\users\\subbu\\anaconda3\\lib\\site-packages (from partd>=1.2.0->dask[dataframe]>=2.10.0->swifter) (1.0.0)\n",
      "Requirement already satisfied: jupyter-core!=5.0.*,>=4.12 in c:\\users\\subbu\\anaconda3\\lib\\site-packages (from jupyter-client>=6.1.12->ipykernel>=4.5.1->ipywidgets>=7.0.0->swifter) (5.3.0)\n",
      "Requirement already satisfied: wcwidth in c:\\users\\subbu\\anaconda3\\lib\\site-packages (from prompt-toolkit!=3.0.37,<3.1.0,>=3.0.30->ipython>=6.1.0->ipywidgets>=7.0.0->swifter) (0.2.5)\n",
      "Requirement already satisfied: pure-eval in c:\\users\\subbu\\anaconda3\\lib\\site-packages (from stack-data->ipython>=6.1.0->ipywidgets>=7.0.0->swifter) (0.2.2)\n",
      "Requirement already satisfied: asttokens in c:\\users\\subbu\\anaconda3\\lib\\site-packages (from stack-data->ipython>=6.1.0->ipywidgets>=7.0.0->swifter) (2.0.5)\n",
      "Requirement already satisfied: executing in c:\\users\\subbu\\anaconda3\\lib\\site-packages (from stack-data->ipython>=6.1.0->ipywidgets>=7.0.0->swifter) (0.8.3)\n",
      "Requirement already satisfied: platformdirs>=2.5 in c:\\users\\subbu\\anaconda3\\lib\\site-packages (from jupyter-core!=5.0.*,>=4.12->jupyter-client>=6.1.12->ipykernel>=4.5.1->ipywidgets>=7.0.0->swifter) (2.5.2)\n",
      "Requirement already satisfied: pywin32>=300 in c:\\users\\subbu\\anaconda3\\lib\\site-packages (from jupyter-core!=5.0.*,>=4.12->jupyter-client>=6.1.12->ipykernel>=4.5.1->ipywidgets>=7.0.0->swifter) (305.1)\n"
     ]
    }
   ],
   "source": [
    "!pip install swifter"
   ]
  },
  {
   "cell_type": "code",
   "execution_count": 2,
   "id": "77c6695c",
   "metadata": {},
   "outputs": [
    {
     "name": "stdout",
     "output_type": "stream",
     "text": [
      "Requirement already satisfied: contractions in c:\\users\\subbu\\anaconda3\\lib\\site-packages (0.1.73)\n",
      "Requirement already satisfied: textsearch>=0.0.21 in c:\\users\\subbu\\anaconda3\\lib\\site-packages (from contractions) (0.0.24)\n",
      "Requirement already satisfied: pyahocorasick in c:\\users\\subbu\\anaconda3\\lib\\site-packages (from textsearch>=0.0.21->contractions) (2.0.0)\n",
      "Requirement already satisfied: anyascii in c:\\users\\subbu\\anaconda3\\lib\\site-packages (from textsearch>=0.0.21->contractions) (0.3.0)\n"
     ]
    }
   ],
   "source": [
    "!pip install contractions"
   ]
  },
  {
   "cell_type": "code",
   "execution_count": 3,
   "id": "407b09ac",
   "metadata": {},
   "outputs": [
    {
     "name": "stdout",
     "output_type": "stream",
     "text": [
      "Requirement already satisfied: emoji in c:\\users\\subbu\\anaconda3\\lib\\site-packages (2.4.0)\n"
     ]
    }
   ],
   "source": [
    "!pip install emoji"
   ]
  },
  {
   "cell_type": "code",
   "execution_count": 4,
   "id": "0d85b9b4",
   "metadata": {},
   "outputs": [
    {
     "name": "stdout",
     "output_type": "stream",
     "text": [
      "Requirement already satisfied: wordcloud in c:\\users\\subbu\\anaconda3\\lib\\site-packages (1.9.2)\n",
      "Requirement already satisfied: pillow in c:\\users\\subbu\\anaconda3\\lib\\site-packages (from wordcloud) (9.4.0)\n",
      "Requirement already satisfied: numpy>=1.6.1 in c:\\users\\subbu\\anaconda3\\lib\\site-packages (from wordcloud) (1.24.3)\n",
      "Requirement already satisfied: matplotlib in c:\\users\\subbu\\anaconda3\\lib\\site-packages (from wordcloud) (3.7.1)\n",
      "Requirement already satisfied: python-dateutil>=2.7 in c:\\users\\subbu\\anaconda3\\lib\\site-packages (from matplotlib->wordcloud) (2.8.2)\n",
      "Requirement already satisfied: packaging>=20.0 in c:\\users\\subbu\\anaconda3\\lib\\site-packages (from matplotlib->wordcloud) (23.0)\n",
      "Requirement already satisfied: kiwisolver>=1.0.1 in c:\\users\\subbu\\anaconda3\\lib\\site-packages (from matplotlib->wordcloud) (1.4.4)\n",
      "Requirement already satisfied: importlib-resources>=3.2.0 in c:\\users\\subbu\\anaconda3\\lib\\site-packages (from matplotlib->wordcloud) (5.2.0)\n",
      "Requirement already satisfied: fonttools>=4.22.0 in c:\\users\\subbu\\anaconda3\\lib\\site-packages (from matplotlib->wordcloud) (4.25.0)\n",
      "Requirement already satisfied: pyparsing>=2.3.1 in c:\\users\\subbu\\anaconda3\\lib\\site-packages (from matplotlib->wordcloud) (3.0.9)\n",
      "Requirement already satisfied: contourpy>=1.0.1 in c:\\users\\subbu\\anaconda3\\lib\\site-packages (from matplotlib->wordcloud) (1.0.5)\n",
      "Requirement already satisfied: cycler>=0.10 in c:\\users\\subbu\\anaconda3\\lib\\site-packages (from matplotlib->wordcloud) (0.11.0)\n",
      "Requirement already satisfied: zipp>=3.1.0 in c:\\users\\subbu\\anaconda3\\lib\\site-packages (from importlib-resources>=3.2.0->matplotlib->wordcloud) (3.11.0)\n",
      "Requirement already satisfied: six>=1.5 in c:\\users\\subbu\\anaconda3\\lib\\site-packages (from python-dateutil>=2.7->matplotlib->wordcloud) (1.16.0)\n"
     ]
    }
   ],
   "source": [
    "!pip install wordcloud"
   ]
  },
  {
   "cell_type": "code",
   "execution_count": 247,
   "id": "2e0cc22e",
   "metadata": {},
   "outputs": [],
   "source": [
    "import pandas as pd\n",
    "from sklearn.model_selection import train_test_split\n",
    "import re\n",
    "import spacy\n",
    "import swifter # For multi-threading/processing\n",
    "import contractions\n",
    "import nltk\n",
    "from nltk.stem import SnowballStemmer\n",
    "import emoji\n",
    "import itertools\n",
    "import numpy as np\n",
    "from sklearn.feature_extraction.text import TfidfVectorizer, CountVectorizer\n",
    "from collections import Counter\n",
    "import matplotlib.pyplot as plt\n",
    "import seaborn as sns\n",
    "from wordcloud import WordCloud, STOPWORDS\n",
    "from sklearn.decomposition import TruncatedSVD\n",
    "from sklearn.base import BaseEstimator, TransformerMixin, ClassifierMixin\n",
    "from nltk.corpus import stopwords\n",
    "from sklearn.linear_model import LogisticRegression\n",
    "from sklearn.metrics import confusion_matrix\n",
    "from sklearn.metrics import precision_score, recall_score\n",
    "from sklearn.tree import DecisionTreeClassifier\n",
    "from sklearn.ensemble import RandomForestClassifier\n",
    "import xgboost as xgb\n",
    "from sklearn.pipeline import Pipeline\n",
    "from sklearn.model_selection import GridSearchCV, ParameterGrid\n",
    "from sklearn.metrics import make_scorer\n",
    "from tqdm import tqdm\n"
   ]
  },
  {
   "cell_type": "code",
   "execution_count": 248,
   "id": "23638db2",
   "metadata": {},
   "outputs": [],
   "source": [
    "twitter_df = pd.read_csv('tweet_data.csv')"
   ]
  },
  {
   "cell_type": "code",
   "execution_count": 249,
   "id": "da86fdec",
   "metadata": {},
   "outputs": [
    {
     "data": {
      "text/html": [
       "<div>\n",
       "<style scoped>\n",
       "    .dataframe tbody tr th:only-of-type {\n",
       "        vertical-align: middle;\n",
       "    }\n",
       "\n",
       "    .dataframe tbody tr th {\n",
       "        vertical-align: top;\n",
       "    }\n",
       "\n",
       "    .dataframe thead th {\n",
       "        text-align: right;\n",
       "    }\n",
       "</style>\n",
       "<table border=\"1\" class=\"dataframe\">\n",
       "  <thead>\n",
       "    <tr style=\"text-align: right;\">\n",
       "      <th></th>\n",
       "      <th>tweetID</th>\n",
       "      <th>crDate</th>\n",
       "      <th>edInput</th>\n",
       "      <th>editor</th>\n",
       "      <th>engages</th>\n",
       "      <th>isApproved</th>\n",
       "      <th>isEdNeed</th>\n",
       "      <th>isRT</th>\n",
       "      <th>likes</th>\n",
       "      <th>photoUrl</th>\n",
       "      <th>retweets</th>\n",
       "      <th>rtUsID</th>\n",
       "      <th>text</th>\n",
       "      <th>topicName</th>\n",
       "      <th>usFlwrs</th>\n",
       "      <th>usID</th>\n",
       "      <th>usName</th>\n",
       "      <th>videoUrl</th>\n",
       "    </tr>\n",
       "  </thead>\n",
       "  <tbody>\n",
       "    <tr>\n",
       "      <th>0</th>\n",
       "      <td>1070867471245164544</td>\n",
       "      <td>2018-12-07 02:27:55</td>\n",
       "      <td>-1</td>\n",
       "      <td>-1</td>\n",
       "      <td>98</td>\n",
       "      <td>False</td>\n",
       "      <td>True</td>\n",
       "      <td>False</td>\n",
       "      <td>64</td>\n",
       "      <td>https://pbs.twimg.com/media/Dtx8SiIWkAImVsb.jpg</td>\n",
       "      <td>34</td>\n",
       "      <td>-1</td>\n",
       "      <td>The immediate impulse for an alliance of the E...</td>\n",
       "      <td>Business</td>\n",
       "      <td>23464532</td>\n",
       "      <td>5988062</td>\n",
       "      <td>The Economist</td>\n",
       "      <td>NaN</td>\n",
       "    </tr>\n",
       "    <tr>\n",
       "      <th>1</th>\n",
       "      <td>1070868017888837633</td>\n",
       "      <td>2018-12-07 02:30:05</td>\n",
       "      <td>-1</td>\n",
       "      <td>-1</td>\n",
       "      <td>13</td>\n",
       "      <td>False</td>\n",
       "      <td>True</td>\n",
       "      <td>False</td>\n",
       "      <td>10</td>\n",
       "      <td>https://pbs.twimg.com/media/Dtx8yTyW4AEciqP.jpg</td>\n",
       "      <td>3</td>\n",
       "      <td>-1</td>\n",
       "      <td>America's economy is flashing some warning sig...</td>\n",
       "      <td>Business</td>\n",
       "      <td>1732809</td>\n",
       "      <td>16184358</td>\n",
       "      <td>CNN Business</td>\n",
       "      <td>NaN</td>\n",
       "    </tr>\n",
       "    <tr>\n",
       "      <th>2</th>\n",
       "      <td>1070868012864028673</td>\n",
       "      <td>2018-12-07 02:30:04</td>\n",
       "      <td>-1</td>\n",
       "      <td>-1</td>\n",
       "      <td>12</td>\n",
       "      <td>False</td>\n",
       "      <td>True</td>\n",
       "      <td>False</td>\n",
       "      <td>8</td>\n",
       "      <td>NaN</td>\n",
       "      <td>4</td>\n",
       "      <td>-1</td>\n",
       "      <td>Lyft files for what is expected to be one of t...</td>\n",
       "      <td>Business</td>\n",
       "      <td>2253989</td>\n",
       "      <td>25053299</td>\n",
       "      <td>FORTUNE</td>\n",
       "      <td>NaN</td>\n",
       "    </tr>\n",
       "    <tr>\n",
       "      <th>3</th>\n",
       "      <td>1070867995239555075</td>\n",
       "      <td>2018-12-07 02:30:00</td>\n",
       "      <td>-1</td>\n",
       "      <td>-1</td>\n",
       "      <td>5</td>\n",
       "      <td>False</td>\n",
       "      <td>True</td>\n",
       "      <td>False</td>\n",
       "      <td>4</td>\n",
       "      <td>NaN</td>\n",
       "      <td>1</td>\n",
       "      <td>-1</td>\n",
       "      <td>Exporters still waiting to get Rs 6,000 crore ...</td>\n",
       "      <td>Business</td>\n",
       "      <td>1704056</td>\n",
       "      <td>43855487</td>\n",
       "      <td>Business Standard</td>\n",
       "      <td>NaN</td>\n",
       "    </tr>\n",
       "    <tr>\n",
       "      <th>4</th>\n",
       "      <td>1070867995205885952</td>\n",
       "      <td>2018-12-07 02:30:00</td>\n",
       "      <td>-1</td>\n",
       "      <td>-1</td>\n",
       "      <td>5</td>\n",
       "      <td>False</td>\n",
       "      <td>True</td>\n",
       "      <td>False</td>\n",
       "      <td>2</td>\n",
       "      <td>NaN</td>\n",
       "      <td>3</td>\n",
       "      <td>-1</td>\n",
       "      <td>Ride-hailing firm Lyft races to leave Uber beh...</td>\n",
       "      <td>Business</td>\n",
       "      <td>1997662</td>\n",
       "      <td>15110357</td>\n",
       "      <td>Reuters Business</td>\n",
       "      <td>https://video.twimg.com/amplify_video/10708116...</td>\n",
       "    </tr>\n",
       "  </tbody>\n",
       "</table>\n",
       "</div>"
      ],
      "text/plain": [
       "               tweetID               crDate  edInput  editor  engages  \\\n",
       "0  1070867471245164544  2018-12-07 02:27:55       -1      -1       98   \n",
       "1  1070868017888837633  2018-12-07 02:30:05       -1      -1       13   \n",
       "2  1070868012864028673  2018-12-07 02:30:04       -1      -1       12   \n",
       "3  1070867995239555075  2018-12-07 02:30:00       -1      -1        5   \n",
       "4  1070867995205885952  2018-12-07 02:30:00       -1      -1        5   \n",
       "\n",
       "   isApproved  isEdNeed   isRT  likes  \\\n",
       "0       False      True  False     64   \n",
       "1       False      True  False     10   \n",
       "2       False      True  False      8   \n",
       "3       False      True  False      4   \n",
       "4       False      True  False      2   \n",
       "\n",
       "                                          photoUrl  retweets  rtUsID  \\\n",
       "0  https://pbs.twimg.com/media/Dtx8SiIWkAImVsb.jpg        34      -1   \n",
       "1  https://pbs.twimg.com/media/Dtx8yTyW4AEciqP.jpg         3      -1   \n",
       "2                                              NaN         4      -1   \n",
       "3                                              NaN         1      -1   \n",
       "4                                              NaN         3      -1   \n",
       "\n",
       "                                                text topicName   usFlwrs  \\\n",
       "0  The immediate impulse for an alliance of the E...  Business  23464532   \n",
       "1  America's economy is flashing some warning sig...  Business   1732809   \n",
       "2  Lyft files for what is expected to be one of t...  Business   2253989   \n",
       "3  Exporters still waiting to get Rs 6,000 crore ...  Business   1704056   \n",
       "4  Ride-hailing firm Lyft races to leave Uber beh...  Business   1997662   \n",
       "\n",
       "       usID             usName  \\\n",
       "0   5988062      The Economist   \n",
       "1  16184358       CNN Business   \n",
       "2  25053299            FORTUNE   \n",
       "3  43855487  Business Standard   \n",
       "4  15110357   Reuters Business   \n",
       "\n",
       "                                            videoUrl  \n",
       "0                                                NaN  \n",
       "1                                                NaN  \n",
       "2                                                NaN  \n",
       "3                                                NaN  \n",
       "4  https://video.twimg.com/amplify_video/10708116...  "
      ]
     },
     "execution_count": 249,
     "metadata": {},
     "output_type": "execute_result"
    }
   ],
   "source": [
    "twitter_df.head()"
   ]
  },
  {
   "cell_type": "markdown",
   "id": "88c10415",
   "metadata": {},
   "source": [
    "Filtering only the interested columns for further analysis"
   ]
  },
  {
   "cell_type": "code",
   "execution_count": 250,
   "id": "50d782a4",
   "metadata": {},
   "outputs": [
    {
     "data": {
      "text/html": [
       "<div>\n",
       "<style scoped>\n",
       "    .dataframe tbody tr th:only-of-type {\n",
       "        vertical-align: middle;\n",
       "    }\n",
       "\n",
       "    .dataframe tbody tr th {\n",
       "        vertical-align: top;\n",
       "    }\n",
       "\n",
       "    .dataframe thead th {\n",
       "        text-align: right;\n",
       "    }\n",
       "</style>\n",
       "<table border=\"1\" class=\"dataframe\">\n",
       "  <thead>\n",
       "    <tr style=\"text-align: right;\">\n",
       "      <th></th>\n",
       "      <th>text</th>\n",
       "      <th>topicName</th>\n",
       "      <th>edInput</th>\n",
       "      <th>crDate</th>\n",
       "    </tr>\n",
       "  </thead>\n",
       "  <tbody>\n",
       "    <tr>\n",
       "      <th>0</th>\n",
       "      <td>The immediate impulse for an alliance of the E...</td>\n",
       "      <td>Business</td>\n",
       "      <td>-1</td>\n",
       "      <td>2018-12-07 02:27:55</td>\n",
       "    </tr>\n",
       "    <tr>\n",
       "      <th>1</th>\n",
       "      <td>America's economy is flashing some warning sig...</td>\n",
       "      <td>Business</td>\n",
       "      <td>-1</td>\n",
       "      <td>2018-12-07 02:30:05</td>\n",
       "    </tr>\n",
       "    <tr>\n",
       "      <th>2</th>\n",
       "      <td>Lyft files for what is expected to be one of t...</td>\n",
       "      <td>Business</td>\n",
       "      <td>-1</td>\n",
       "      <td>2018-12-07 02:30:04</td>\n",
       "    </tr>\n",
       "    <tr>\n",
       "      <th>3</th>\n",
       "      <td>Exporters still waiting to get Rs 6,000 crore ...</td>\n",
       "      <td>Business</td>\n",
       "      <td>-1</td>\n",
       "      <td>2018-12-07 02:30:00</td>\n",
       "    </tr>\n",
       "    <tr>\n",
       "      <th>4</th>\n",
       "      <td>Ride-hailing firm Lyft races to leave Uber beh...</td>\n",
       "      <td>Business</td>\n",
       "      <td>-1</td>\n",
       "      <td>2018-12-07 02:30:00</td>\n",
       "    </tr>\n",
       "  </tbody>\n",
       "</table>\n",
       "</div>"
      ],
      "text/plain": [
       "                                                text topicName  edInput  \\\n",
       "0  The immediate impulse for an alliance of the E...  Business       -1   \n",
       "1  America's economy is flashing some warning sig...  Business       -1   \n",
       "2  Lyft files for what is expected to be one of t...  Business       -1   \n",
       "3  Exporters still waiting to get Rs 6,000 crore ...  Business       -1   \n",
       "4  Ride-hailing firm Lyft races to leave Uber beh...  Business       -1   \n",
       "\n",
       "                crDate  \n",
       "0  2018-12-07 02:27:55  \n",
       "1  2018-12-07 02:30:05  \n",
       "2  2018-12-07 02:30:04  \n",
       "3  2018-12-07 02:30:00  \n",
       "4  2018-12-07 02:30:00  "
      ]
     },
     "execution_count": 250,
     "metadata": {},
     "output_type": "execute_result"
    }
   ],
   "source": [
    "twitter_df = twitter_df[['text', 'topicName', 'edInput', 'crDate']].copy()\n",
    "twitter_df.head()"
   ]
  },
  {
   "cell_type": "code",
   "execution_count": 251,
   "id": "d5501798",
   "metadata": {},
   "outputs": [
    {
     "name": "stdout",
     "output_type": "stream",
     "text": [
      "<class 'pandas.core.frame.DataFrame'>\n",
      "RangeIndex: 785916 entries, 0 to 785915\n",
      "Data columns (total 4 columns):\n",
      " #   Column     Non-Null Count   Dtype \n",
      "---  ------     --------------   ----- \n",
      " 0   text       785916 non-null  object\n",
      " 1   topicName  785916 non-null  object\n",
      " 2   edInput    785916 non-null  int64 \n",
      " 3   crDate     785916 non-null  object\n",
      "dtypes: int64(1), object(3)\n",
      "memory usage: 24.0+ MB\n"
     ]
    }
   ],
   "source": [
    "twitter_df.info()"
   ]
  },
  {
   "cell_type": "code",
   "execution_count": 252,
   "id": "4b1741d3",
   "metadata": {},
   "outputs": [
    {
     "data": {
      "text/plain": [
       "(785916, 4)"
      ]
     },
     "execution_count": 252,
     "metadata": {},
     "output_type": "execute_result"
    }
   ],
   "source": [
    "twitter_df.shape"
   ]
  },
  {
   "cell_type": "code",
   "execution_count": 253,
   "id": "13f41b6a",
   "metadata": {},
   "outputs": [
    {
     "name": "stdout",
     "output_type": "stream",
     "text": [
      "There are 785916 entries in the dataset\n"
     ]
    }
   ],
   "source": [
    "print(f'There are {twitter_df.shape[0]} entries in the dataset')"
   ]
  },
  {
   "cell_type": "code",
   "execution_count": 254,
   "id": "18281df7",
   "metadata": {},
   "outputs": [
    {
     "name": "stdout",
     "output_type": "stream",
     "text": [
      "There are no missing values in the dataset.\n"
     ]
    }
   ],
   "source": [
    "missing_values = twitter_df.isnull().sum().values.sum()\n",
    "if missing_values:\n",
    "    print(f'Number of missing values in the dataset: {missing_values}')\n",
    "else:\n",
    "    print(f'There are no missing values in the dataset.')"
   ]
  },
  {
   "cell_type": "code",
   "execution_count": 255,
   "id": "6ad2a6e5",
   "metadata": {},
   "outputs": [
    {
     "name": "stdout",
     "output_type": "stream",
     "text": [
      "There are no duplicate entries in the dataset.\n"
     ]
    }
   ],
   "source": [
    "num_duplicate_rows = len(twitter_df[twitter_df.duplicated()])\n",
    "\n",
    "if num_duplicate_rows:\n",
    "    print(f'Number of duplicate entries in the dataset: [{num_duplicate_rows}]')\n",
    "else:\n",
    "    print('There are no duplicate entries in the dataset.')"
   ]
  },
  {
   "cell_type": "markdown",
   "id": "9f968e45",
   "metadata": {},
   "source": [
    "Technology enthusiasts will greatly benefit from a dedicated filter for Technology-related tweets. This would help them in getting trending technology updates from this platform."
   ]
  },
  {
   "cell_type": "code",
   "execution_count": 256,
   "id": "a234499c",
   "metadata": {},
   "outputs": [],
   "source": [
    "# Filtering only Technology tweets \n",
    "twitter_tech = twitter_df[twitter_df['topicName'] == 'Technology'].copy()"
   ]
  },
  {
   "cell_type": "code",
   "execution_count": 257,
   "id": "7f8dd6b7",
   "metadata": {},
   "outputs": [],
   "source": [
    "# Filtering the non-Tech tweets\n",
    "twitter_nontech = twitter_df[twitter_df['topicName'] != 'Technology'].copy()"
   ]
  },
  {
   "cell_type": "markdown",
   "id": "b748d3fe",
   "metadata": {},
   "source": [
    "### Non-Technology Tweets"
   ]
  },
  {
   "cell_type": "code",
   "execution_count": 258,
   "id": "7de53a8a",
   "metadata": {},
   "outputs": [],
   "source": [
    "# Filtering edInput 1\n",
    "twitter_nontech = twitter_nontech.loc[twitter_nontech['edInput'] == 1]"
   ]
  },
  {
   "cell_type": "code",
   "execution_count": 259,
   "id": "46ff2a60",
   "metadata": {},
   "outputs": [
    {
     "data": {
      "text/html": [
       "<div>\n",
       "<style scoped>\n",
       "    .dataframe tbody tr th:only-of-type {\n",
       "        vertical-align: middle;\n",
       "    }\n",
       "\n",
       "    .dataframe tbody tr th {\n",
       "        vertical-align: top;\n",
       "    }\n",
       "\n",
       "    .dataframe thead th {\n",
       "        text-align: right;\n",
       "    }\n",
       "</style>\n",
       "<table border=\"1\" class=\"dataframe\">\n",
       "  <thead>\n",
       "    <tr style=\"text-align: right;\">\n",
       "      <th></th>\n",
       "      <th>text</th>\n",
       "      <th>topicName</th>\n",
       "      <th>edInput</th>\n",
       "      <th>crDate</th>\n",
       "    </tr>\n",
       "  </thead>\n",
       "  <tbody>\n",
       "    <tr>\n",
       "      <th>721</th>\n",
       "      <td>Which one would you choose? 👀 https://t.co/U0s...</td>\n",
       "      <td>Fashion</td>\n",
       "      <td>1</td>\n",
       "      <td>2018-12-07 09:18:12</td>\n",
       "    </tr>\n",
       "    <tr>\n",
       "      <th>1374</th>\n",
       "      <td>How it’s made. 😊 https://t.co/3XjOw4gIkg</td>\n",
       "      <td>Interesting</td>\n",
       "      <td>1</td>\n",
       "      <td>2018-12-07 10:02:07</td>\n",
       "    </tr>\n",
       "    <tr>\n",
       "      <th>2206</th>\n",
       "      <td>𝐶𝑙𝑎𝑢𝑑𝑒 𝑀𝑜𝑛𝑒𝑡 https://t.co/WdavWJcSyw</td>\n",
       "      <td>Art</td>\n",
       "      <td>1</td>\n",
       "      <td>2018-12-07 20:12:20</td>\n",
       "    </tr>\n",
       "    <tr>\n",
       "      <th>2263</th>\n",
       "      <td>Baby Alpacas are so under appreciated. https:/...</td>\n",
       "      <td>Animal</td>\n",
       "      <td>1</td>\n",
       "      <td>2018-12-07 20:35:31</td>\n",
       "    </tr>\n",
       "    <tr>\n",
       "      <th>2660</th>\n",
       "      <td>For some people the idea of compassion entails...</td>\n",
       "      <td>Personal Development</td>\n",
       "      <td>1</td>\n",
       "      <td>2018-12-07 10:30:04</td>\n",
       "    </tr>\n",
       "  </tbody>\n",
       "</table>\n",
       "</div>"
      ],
      "text/plain": [
       "                                                   text             topicName  \\\n",
       "721   Which one would you choose? 👀 https://t.co/U0s...               Fashion   \n",
       "1374           How it’s made. 😊 https://t.co/3XjOw4gIkg           Interesting   \n",
       "2206               𝐶𝑙𝑎𝑢𝑑𝑒 𝑀𝑜𝑛𝑒𝑡 https://t.co/WdavWJcSyw                   Art   \n",
       "2263  Baby Alpacas are so under appreciated. https:/...                Animal   \n",
       "2660  For some people the idea of compassion entails...  Personal Development   \n",
       "\n",
       "      edInput               crDate  \n",
       "721         1  2018-12-07 09:18:12  \n",
       "1374        1  2018-12-07 10:02:07  \n",
       "2206        1  2018-12-07 20:12:20  \n",
       "2263        1  2018-12-07 20:35:31  \n",
       "2660        1  2018-12-07 10:30:04  "
      ]
     },
     "execution_count": 259,
     "metadata": {},
     "output_type": "execute_result"
    }
   ],
   "source": [
    "twitter_nontech.head()"
   ]
  },
  {
   "cell_type": "code",
   "execution_count": 260,
   "id": "f7026e60",
   "metadata": {},
   "outputs": [],
   "source": [
    "twitter_nontech.drop(['topicName', 'edInput', 'crDate'], axis=1, inplace=True)"
   ]
  },
  {
   "cell_type": "code",
   "execution_count": 261,
   "id": "1520a151",
   "metadata": {},
   "outputs": [],
   "source": [
    "# Marking the tweets as non-Tech\n",
    "twitter_nontech['Tech'] = 0"
   ]
  },
  {
   "cell_type": "code",
   "execution_count": 262,
   "id": "3f28e791",
   "metadata": {},
   "outputs": [
    {
     "data": {
      "text/html": [
       "<div>\n",
       "<style scoped>\n",
       "    .dataframe tbody tr th:only-of-type {\n",
       "        vertical-align: middle;\n",
       "    }\n",
       "\n",
       "    .dataframe tbody tr th {\n",
       "        vertical-align: top;\n",
       "    }\n",
       "\n",
       "    .dataframe thead th {\n",
       "        text-align: right;\n",
       "    }\n",
       "</style>\n",
       "<table border=\"1\" class=\"dataframe\">\n",
       "  <thead>\n",
       "    <tr style=\"text-align: right;\">\n",
       "      <th></th>\n",
       "      <th>text</th>\n",
       "      <th>Tech</th>\n",
       "    </tr>\n",
       "  </thead>\n",
       "  <tbody>\n",
       "    <tr>\n",
       "      <th>721</th>\n",
       "      <td>Which one would you choose? 👀 https://t.co/U0s...</td>\n",
       "      <td>0</td>\n",
       "    </tr>\n",
       "    <tr>\n",
       "      <th>1374</th>\n",
       "      <td>How it’s made. 😊 https://t.co/3XjOw4gIkg</td>\n",
       "      <td>0</td>\n",
       "    </tr>\n",
       "    <tr>\n",
       "      <th>2206</th>\n",
       "      <td>𝐶𝑙𝑎𝑢𝑑𝑒 𝑀𝑜𝑛𝑒𝑡 https://t.co/WdavWJcSyw</td>\n",
       "      <td>0</td>\n",
       "    </tr>\n",
       "    <tr>\n",
       "      <th>2263</th>\n",
       "      <td>Baby Alpacas are so under appreciated. https:/...</td>\n",
       "      <td>0</td>\n",
       "    </tr>\n",
       "    <tr>\n",
       "      <th>2660</th>\n",
       "      <td>For some people the idea of compassion entails...</td>\n",
       "      <td>0</td>\n",
       "    </tr>\n",
       "  </tbody>\n",
       "</table>\n",
       "</div>"
      ],
      "text/plain": [
       "                                                   text  Tech\n",
       "721   Which one would you choose? 👀 https://t.co/U0s...     0\n",
       "1374           How it’s made. 😊 https://t.co/3XjOw4gIkg     0\n",
       "2206               𝐶𝑙𝑎𝑢𝑑𝑒 𝑀𝑜𝑛𝑒𝑡 https://t.co/WdavWJcSyw     0\n",
       "2263  Baby Alpacas are so under appreciated. https:/...     0\n",
       "2660  For some people the idea of compassion entails...     0"
      ]
     },
     "execution_count": 262,
     "metadata": {},
     "output_type": "execute_result"
    }
   ],
   "source": [
    "twitter_nontech.head()"
   ]
  },
  {
   "cell_type": "markdown",
   "id": "ac2dbdb6",
   "metadata": {},
   "source": [
    "### Technology Tweets"
   ]
  },
  {
   "cell_type": "code",
   "execution_count": 263,
   "id": "5c2e4454",
   "metadata": {},
   "outputs": [
    {
     "data": {
      "text/plain": [
       "Technology    47679\n",
       "Name: topicName, dtype: int64"
      ]
     },
     "execution_count": 263,
     "metadata": {},
     "output_type": "execute_result"
    }
   ],
   "source": [
    "twitter_tech['topicName'].value_counts()"
   ]
  },
  {
   "cell_type": "code",
   "execution_count": 264,
   "id": "c7205c6a",
   "metadata": {},
   "outputs": [],
   "source": [
    "# Dropping the variable: topicName\n",
    "twitter_tech.drop('topicName', axis=1, inplace=True)"
   ]
  },
  {
   "cell_type": "code",
   "execution_count": 265,
   "id": "b18e06a3",
   "metadata": {},
   "outputs": [
    {
     "data": {
      "text/plain": [
       "-1    22235\n",
       " 1    14652\n",
       " 2     4965\n",
       " 4     4761\n",
       " 3     1066\n",
       "Name: edInput, dtype: int64"
      ]
     },
     "execution_count": 265,
     "metadata": {},
     "output_type": "execute_result"
    }
   ],
   "source": [
    "twitter_tech['edInput'].value_counts()"
   ]
  },
  {
   "cell_type": "markdown",
   "id": "282a55ee",
   "metadata": {},
   "source": [
    "Editor input:\n",
    "\n",
    "-1: the tweet classified by the rule-based system is not yet verified manually by the editor.\n",
    "1, 2, 3, 4 - the tweet classified by the rule-based system is verified manually by the editor.\n",
    "\n",
    "1 : the editor accepts the assigned topic name for a particular tweet by rule-based system.\n",
    "2 : the editor rejects the assigned topic name for a particular tweet by rule-based system.\n",
    "3 : the editor is not confident about the assigned topic name for the tweet.\n",
    "4 : the editor identifies the tweet as duplicate and this will not be shown by the application."
   ]
  },
  {
   "cell_type": "code",
   "execution_count": 266,
   "id": "fa19f58d",
   "metadata": {},
   "outputs": [
    {
     "data": {
      "text/html": [
       "<div>\n",
       "<style scoped>\n",
       "    .dataframe tbody tr th:only-of-type {\n",
       "        vertical-align: middle;\n",
       "    }\n",
       "\n",
       "    .dataframe tbody tr th {\n",
       "        vertical-align: top;\n",
       "    }\n",
       "\n",
       "    .dataframe thead th {\n",
       "        text-align: right;\n",
       "    }\n",
       "</style>\n",
       "<table border=\"1\" class=\"dataframe\">\n",
       "  <thead>\n",
       "    <tr style=\"text-align: right;\">\n",
       "      <th></th>\n",
       "      <th>text</th>\n",
       "      <th>edInput</th>\n",
       "      <th>crDate</th>\n",
       "    </tr>\n",
       "  </thead>\n",
       "  <tbody>\n",
       "    <tr>\n",
       "      <th>58883</th>\n",
       "      <td>A NASA spacecraft just did a fly-by of the mos...</td>\n",
       "      <td>-1</td>\n",
       "      <td>2019-01-01 20:56:34</td>\n",
       "    </tr>\n",
       "    <tr>\n",
       "      <th>58884</th>\n",
       "      <td>What does the crystal ball say for the media i...</td>\n",
       "      <td>-1</td>\n",
       "      <td>2019-01-01 20:47:04</td>\n",
       "    </tr>\n",
       "    <tr>\n",
       "      <th>58885</th>\n",
       "      <td>Adding water could improve the flavor https://...</td>\n",
       "      <td>-1</td>\n",
       "      <td>2019-01-01 20:44:00</td>\n",
       "    </tr>\n",
       "    <tr>\n",
       "      <th>58928</th>\n",
       "      <td>Funerals costs are high — why not donate your ...</td>\n",
       "      <td>-1</td>\n",
       "      <td>2019-01-01 21:22:00</td>\n",
       "    </tr>\n",
       "    <tr>\n",
       "      <th>58929</th>\n",
       "      <td>The New Horizons Probe is approaching a myster...</td>\n",
       "      <td>-1</td>\n",
       "      <td>2019-01-01 21:10:05</td>\n",
       "    </tr>\n",
       "  </tbody>\n",
       "</table>\n",
       "</div>"
      ],
      "text/plain": [
       "                                                    text  edInput  \\\n",
       "58883  A NASA spacecraft just did a fly-by of the mos...       -1   \n",
       "58884  What does the crystal ball say for the media i...       -1   \n",
       "58885  Adding water could improve the flavor https://...       -1   \n",
       "58928  Funerals costs are high — why not donate your ...       -1   \n",
       "58929  The New Horizons Probe is approaching a myster...       -1   \n",
       "\n",
       "                    crDate  \n",
       "58883  2019-01-01 20:56:34  \n",
       "58884  2019-01-01 20:47:04  \n",
       "58885  2019-01-01 20:44:00  \n",
       "58928  2019-01-01 21:22:00  \n",
       "58929  2019-01-01 21:10:05  "
      ]
     },
     "execution_count": 266,
     "metadata": {},
     "output_type": "execute_result"
    }
   ],
   "source": [
    "twitter_tech[twitter_tech['edInput'] == -1].head()"
   ]
  },
  {
   "cell_type": "code",
   "execution_count": 267,
   "id": "7e3fdb87",
   "metadata": {},
   "outputs": [
    {
     "data": {
      "text/html": [
       "<div>\n",
       "<style scoped>\n",
       "    .dataframe tbody tr th:only-of-type {\n",
       "        vertical-align: middle;\n",
       "    }\n",
       "\n",
       "    .dataframe tbody tr th {\n",
       "        vertical-align: top;\n",
       "    }\n",
       "\n",
       "    .dataframe thead th {\n",
       "        text-align: right;\n",
       "    }\n",
       "</style>\n",
       "<table border=\"1\" class=\"dataframe\">\n",
       "  <thead>\n",
       "    <tr style=\"text-align: right;\">\n",
       "      <th></th>\n",
       "      <th>text</th>\n",
       "      <th>edInput</th>\n",
       "      <th>crDate</th>\n",
       "    </tr>\n",
       "  </thead>\n",
       "  <tbody>\n",
       "    <tr>\n",
       "      <th>60071</th>\n",
       "      <td>This paper Boeing 777 puts all other paper air...</td>\n",
       "      <td>1</td>\n",
       "      <td>2018-12-31 04:37:01</td>\n",
       "    </tr>\n",
       "    <tr>\n",
       "      <th>60462</th>\n",
       "      <td>This long-range wireless charging system charg...</td>\n",
       "      <td>1</td>\n",
       "      <td>2018-12-31 03:04:01</td>\n",
       "    </tr>\n",
       "    <tr>\n",
       "      <th>61260</th>\n",
       "      <td>Elon Musk has created and sold multiple compan...</td>\n",
       "      <td>1</td>\n",
       "      <td>2018-12-30 06:37:00</td>\n",
       "    </tr>\n",
       "    <tr>\n",
       "      <th>61996</th>\n",
       "      <td>Honda's $4.9 million private jet is an absolut...</td>\n",
       "      <td>1</td>\n",
       "      <td>2019-01-02 18:20:00</td>\n",
       "    </tr>\n",
       "    <tr>\n",
       "      <th>64482</th>\n",
       "      <td>The US Marines pieced together this temporary ...</td>\n",
       "      <td>1</td>\n",
       "      <td>2019-01-02 08:04:00</td>\n",
       "    </tr>\n",
       "  </tbody>\n",
       "</table>\n",
       "</div>"
      ],
      "text/plain": [
       "                                                    text  edInput  \\\n",
       "60071  This paper Boeing 777 puts all other paper air...        1   \n",
       "60462  This long-range wireless charging system charg...        1   \n",
       "61260  Elon Musk has created and sold multiple compan...        1   \n",
       "61996  Honda's $4.9 million private jet is an absolut...        1   \n",
       "64482  The US Marines pieced together this temporary ...        1   \n",
       "\n",
       "                    crDate  \n",
       "60071  2018-12-31 04:37:01  \n",
       "60462  2018-12-31 03:04:01  \n",
       "61260  2018-12-30 06:37:00  \n",
       "61996  2019-01-02 18:20:00  \n",
       "64482  2019-01-02 08:04:00  "
      ]
     },
     "execution_count": 267,
     "metadata": {},
     "output_type": "execute_result"
    }
   ],
   "source": [
    "twitter_tech[twitter_tech['edInput'] == 1].head()"
   ]
  },
  {
   "cell_type": "code",
   "execution_count": 268,
   "id": "4be9fc07",
   "metadata": {},
   "outputs": [
    {
     "data": {
      "text/html": [
       "<div>\n",
       "<style scoped>\n",
       "    .dataframe tbody tr th:only-of-type {\n",
       "        vertical-align: middle;\n",
       "    }\n",
       "\n",
       "    .dataframe tbody tr th {\n",
       "        vertical-align: top;\n",
       "    }\n",
       "\n",
       "    .dataframe thead th {\n",
       "        text-align: right;\n",
       "    }\n",
       "</style>\n",
       "<table border=\"1\" class=\"dataframe\">\n",
       "  <thead>\n",
       "    <tr style=\"text-align: right;\">\n",
       "      <th></th>\n",
       "      <th>text</th>\n",
       "      <th>edInput</th>\n",
       "      <th>crDate</th>\n",
       "    </tr>\n",
       "  </thead>\n",
       "  <tbody>\n",
       "    <tr>\n",
       "      <th>65847</th>\n",
       "      <td>These machines allow you to recycle at home ♻️...</td>\n",
       "      <td>2</td>\n",
       "      <td>2019-01-03 09:40:00</td>\n",
       "    </tr>\n",
       "    <tr>\n",
       "      <th>67425</th>\n",
       "      <td>China just made history by being the first to ...</td>\n",
       "      <td>2</td>\n",
       "      <td>2019-01-04 16:22:00</td>\n",
       "    </tr>\n",
       "    <tr>\n",
       "      <th>67810</th>\n",
       "      <td>This is the world's fastest manned aircraft ht...</td>\n",
       "      <td>2</td>\n",
       "      <td>2019-01-03 20:20:00</td>\n",
       "    </tr>\n",
       "    <tr>\n",
       "      <th>68358</th>\n",
       "      <td>As essential as iPhones have become, it’s just...</td>\n",
       "      <td>2</td>\n",
       "      <td>2019-01-04 20:47:04</td>\n",
       "    </tr>\n",
       "    <tr>\n",
       "      <th>70295</th>\n",
       "      <td>New: Security researchers have found more than...</td>\n",
       "      <td>2</td>\n",
       "      <td>2019-01-05 15:34:23</td>\n",
       "    </tr>\n",
       "  </tbody>\n",
       "</table>\n",
       "</div>"
      ],
      "text/plain": [
       "                                                    text  edInput  \\\n",
       "65847  These machines allow you to recycle at home ♻️...        2   \n",
       "67425  China just made history by being the first to ...        2   \n",
       "67810  This is the world's fastest manned aircraft ht...        2   \n",
       "68358  As essential as iPhones have become, it’s just...        2   \n",
       "70295  New: Security researchers have found more than...        2   \n",
       "\n",
       "                    crDate  \n",
       "65847  2019-01-03 09:40:00  \n",
       "67425  2019-01-04 16:22:00  \n",
       "67810  2019-01-03 20:20:00  \n",
       "68358  2019-01-04 20:47:04  \n",
       "70295  2019-01-05 15:34:23  "
      ]
     },
     "execution_count": 268,
     "metadata": {},
     "output_type": "execute_result"
    }
   ],
   "source": [
    "twitter_tech[twitter_tech['edInput'] == 2].head()"
   ]
  },
  {
   "cell_type": "code",
   "execution_count": 269,
   "id": "af21d1ce",
   "metadata": {},
   "outputs": [
    {
     "data": {
      "text/html": [
       "<div>\n",
       "<style scoped>\n",
       "    .dataframe tbody tr th:only-of-type {\n",
       "        vertical-align: middle;\n",
       "    }\n",
       "\n",
       "    .dataframe tbody tr th {\n",
       "        vertical-align: top;\n",
       "    }\n",
       "\n",
       "    .dataframe thead th {\n",
       "        text-align: right;\n",
       "    }\n",
       "</style>\n",
       "<table border=\"1\" class=\"dataframe\">\n",
       "  <thead>\n",
       "    <tr style=\"text-align: right;\">\n",
       "      <th></th>\n",
       "      <th>text</th>\n",
       "      <th>edInput</th>\n",
       "      <th>crDate</th>\n",
       "    </tr>\n",
       "  </thead>\n",
       "  <tbody>\n",
       "    <tr>\n",
       "      <th>59014</th>\n",
       "      <td>Your car could lose control if the weight isn'...</td>\n",
       "      <td>3</td>\n",
       "      <td>2018-12-31 10:04:00</td>\n",
       "    </tr>\n",
       "    <tr>\n",
       "      <th>59194</th>\n",
       "      <td>Depending on how paranoid you are, this resear...</td>\n",
       "      <td>3</td>\n",
       "      <td>2019-01-02 00:13:02</td>\n",
       "    </tr>\n",
       "    <tr>\n",
       "      <th>81794</th>\n",
       "      <td>Sleep deprivation can drastically affect your ...</td>\n",
       "      <td>3</td>\n",
       "      <td>2019-01-09 06:22:00</td>\n",
       "    </tr>\n",
       "    <tr>\n",
       "      <th>81889</th>\n",
       "      <td>In case you missed it: IBM just unveiled a qua...</td>\n",
       "      <td>3</td>\n",
       "      <td>2019-01-09 07:10:21</td>\n",
       "    </tr>\n",
       "    <tr>\n",
       "      <th>82802</th>\n",
       "      <td>After last year's scandal, the four largest U....</td>\n",
       "      <td>3</td>\n",
       "      <td>2019-01-09 14:44:41</td>\n",
       "    </tr>\n",
       "  </tbody>\n",
       "</table>\n",
       "</div>"
      ],
      "text/plain": [
       "                                                    text  edInput  \\\n",
       "59014  Your car could lose control if the weight isn'...        3   \n",
       "59194  Depending on how paranoid you are, this resear...        3   \n",
       "81794  Sleep deprivation can drastically affect your ...        3   \n",
       "81889  In case you missed it: IBM just unveiled a qua...        3   \n",
       "82802  After last year's scandal, the four largest U....        3   \n",
       "\n",
       "                    crDate  \n",
       "59014  2018-12-31 10:04:00  \n",
       "59194  2019-01-02 00:13:02  \n",
       "81794  2019-01-09 06:22:00  \n",
       "81889  2019-01-09 07:10:21  \n",
       "82802  2019-01-09 14:44:41  "
      ]
     },
     "execution_count": 269,
     "metadata": {},
     "output_type": "execute_result"
    }
   ],
   "source": [
    "twitter_tech[twitter_tech['edInput'] == 3].head()"
   ]
  },
  {
   "cell_type": "code",
   "execution_count": 270,
   "id": "0d32a06b",
   "metadata": {},
   "outputs": [
    {
     "data": {
      "text/html": [
       "<div>\n",
       "<style scoped>\n",
       "    .dataframe tbody tr th:only-of-type {\n",
       "        vertical-align: middle;\n",
       "    }\n",
       "\n",
       "    .dataframe tbody tr th {\n",
       "        vertical-align: top;\n",
       "    }\n",
       "\n",
       "    .dataframe thead th {\n",
       "        text-align: right;\n",
       "    }\n",
       "</style>\n",
       "<table border=\"1\" class=\"dataframe\">\n",
       "  <thead>\n",
       "    <tr style=\"text-align: right;\">\n",
       "      <th></th>\n",
       "      <th>text</th>\n",
       "      <th>edInput</th>\n",
       "      <th>crDate</th>\n",
       "    </tr>\n",
       "  </thead>\n",
       "  <tbody>\n",
       "    <tr>\n",
       "      <th>64310</th>\n",
       "      <td>Here’s how this machine can quickly replace ra...</td>\n",
       "      <td>4</td>\n",
       "      <td>2019-01-03 17:22:00</td>\n",
       "    </tr>\n",
       "    <tr>\n",
       "      <th>98389</th>\n",
       "      <td>A updated version of the VW bus is coming back...</td>\n",
       "      <td>4</td>\n",
       "      <td>2019-01-11 19:37:00</td>\n",
       "    </tr>\n",
       "    <tr>\n",
       "      <th>136286</th>\n",
       "      <td>@techreview Cool that this is happening on man...</td>\n",
       "      <td>4</td>\n",
       "      <td>2019-01-25 20:21:26</td>\n",
       "    </tr>\n",
       "    <tr>\n",
       "      <th>136326</th>\n",
       "      <td>Boeing’s electric autonomous passenger air veh...</td>\n",
       "      <td>4</td>\n",
       "      <td>2019-01-25 18:38:33</td>\n",
       "    </tr>\n",
       "    <tr>\n",
       "      <th>143026</th>\n",
       "      <td>The Spikemate hooks up to your basketball hoop...</td>\n",
       "      <td>4</td>\n",
       "      <td>2019-01-28 19:49:26</td>\n",
       "    </tr>\n",
       "  </tbody>\n",
       "</table>\n",
       "</div>"
      ],
      "text/plain": [
       "                                                     text  edInput  \\\n",
       "64310   Here’s how this machine can quickly replace ra...        4   \n",
       "98389   A updated version of the VW bus is coming back...        4   \n",
       "136286  @techreview Cool that this is happening on man...        4   \n",
       "136326  Boeing’s electric autonomous passenger air veh...        4   \n",
       "143026  The Spikemate hooks up to your basketball hoop...        4   \n",
       "\n",
       "                     crDate  \n",
       "64310   2019-01-03 17:22:00  \n",
       "98389   2019-01-11 19:37:00  \n",
       "136286  2019-01-25 20:21:26  \n",
       "136326  2019-01-25 18:38:33  \n",
       "143026  2019-01-28 19:49:26  "
      ]
     },
     "execution_count": 270,
     "metadata": {},
     "output_type": "execute_result"
    }
   ],
   "source": [
    "twitter_tech[twitter_tech['edInput'] == 4].head()"
   ]
  },
  {
   "cell_type": "markdown",
   "id": "7fbffb97",
   "metadata": {},
   "source": [
    "Tweets where edInput with below options are not considered for modelling because\n",
    "1. Option -1 is not yet confirmed by the editor.\n",
    "2. Option 3 is not considered as editor is not confident about the assigned topicName.\n",
    "3. Option 4 indicates duplicate tweets. These are not going to be displayed by the application.\n",
    " \n",
    "\n",
    "We will be using edInput: 1 and 2 to derive the target variable Tech for our classification model as these inputs are confirmed by the editor as accepted or rejected."
   ]
  },
  {
   "cell_type": "code",
   "execution_count": 271,
   "id": "bd2f0d90",
   "metadata": {},
   "outputs": [
    {
     "name": "stdout",
     "output_type": "stream",
     "text": [
      "<class 'pandas.core.frame.DataFrame'>\n",
      "Int64Index: 47679 entries, 58883 to 785868\n",
      "Data columns (total 3 columns):\n",
      " #   Column   Non-Null Count  Dtype \n",
      "---  ------   --------------  ----- \n",
      " 0   text     47679 non-null  object\n",
      " 1   edInput  47679 non-null  int64 \n",
      " 2   crDate   47679 non-null  object\n",
      "dtypes: int64(1), object(2)\n",
      "memory usage: 1.5+ MB\n"
     ]
    }
   ],
   "source": [
    "twitter_tech.info()"
   ]
  },
  {
   "cell_type": "code",
   "execution_count": 272,
   "id": "4ce21a2f",
   "metadata": {},
   "outputs": [
    {
     "data": {
      "text/html": [
       "<div>\n",
       "<style scoped>\n",
       "    .dataframe tbody tr th:only-of-type {\n",
       "        vertical-align: middle;\n",
       "    }\n",
       "\n",
       "    .dataframe tbody tr th {\n",
       "        vertical-align: top;\n",
       "    }\n",
       "\n",
       "    .dataframe thead th {\n",
       "        text-align: right;\n",
       "    }\n",
       "</style>\n",
       "<table border=\"1\" class=\"dataframe\">\n",
       "  <thead>\n",
       "    <tr style=\"text-align: right;\">\n",
       "      <th></th>\n",
       "      <th>text</th>\n",
       "      <th>edInput</th>\n",
       "      <th>crDate</th>\n",
       "    </tr>\n",
       "  </thead>\n",
       "  <tbody>\n",
       "    <tr>\n",
       "      <th>60071</th>\n",
       "      <td>This paper Boeing 777 puts all other paper air...</td>\n",
       "      <td>1</td>\n",
       "      <td>2018-12-31 04:37:01</td>\n",
       "    </tr>\n",
       "    <tr>\n",
       "      <th>60462</th>\n",
       "      <td>This long-range wireless charging system charg...</td>\n",
       "      <td>1</td>\n",
       "      <td>2018-12-31 03:04:01</td>\n",
       "    </tr>\n",
       "    <tr>\n",
       "      <th>61260</th>\n",
       "      <td>Elon Musk has created and sold multiple compan...</td>\n",
       "      <td>1</td>\n",
       "      <td>2018-12-30 06:37:00</td>\n",
       "    </tr>\n",
       "    <tr>\n",
       "      <th>61996</th>\n",
       "      <td>Honda's $4.9 million private jet is an absolut...</td>\n",
       "      <td>1</td>\n",
       "      <td>2019-01-02 18:20:00</td>\n",
       "    </tr>\n",
       "    <tr>\n",
       "      <th>64482</th>\n",
       "      <td>The US Marines pieced together this temporary ...</td>\n",
       "      <td>1</td>\n",
       "      <td>2019-01-02 08:04:00</td>\n",
       "    </tr>\n",
       "  </tbody>\n",
       "</table>\n",
       "</div>"
      ],
      "text/plain": [
       "                                                    text  edInput  \\\n",
       "60071  This paper Boeing 777 puts all other paper air...        1   \n",
       "60462  This long-range wireless charging system charg...        1   \n",
       "61260  Elon Musk has created and sold multiple compan...        1   \n",
       "61996  Honda's $4.9 million private jet is an absolut...        1   \n",
       "64482  The US Marines pieced together this temporary ...        1   \n",
       "\n",
       "                    crDate  \n",
       "60071  2018-12-31 04:37:01  \n",
       "60462  2018-12-31 03:04:01  \n",
       "61260  2018-12-30 06:37:00  \n",
       "61996  2019-01-02 18:20:00  \n",
       "64482  2019-01-02 08:04:00  "
      ]
     },
     "execution_count": 272,
     "metadata": {},
     "output_type": "execute_result"
    }
   ],
   "source": [
    "# Filter the tweets where editor confirms the topic names as accepted(1) or rejected(2).\n",
    "twitter_tech = twitter_tech[(twitter_tech['edInput'] == 1) | (twitter_tech['edInput'] == 2)]\n",
    "twitter_tech.head()"
   ]
  },
  {
   "cell_type": "code",
   "execution_count": 273,
   "id": "d2daacee",
   "metadata": {},
   "outputs": [
    {
     "data": {
      "text/plain": [
       "1    14652\n",
       "2     4965\n",
       "Name: edInput, dtype: int64"
      ]
     },
     "execution_count": 273,
     "metadata": {},
     "output_type": "execute_result"
    }
   ],
   "source": [
    "twitter_tech['edInput'].value_counts()"
   ]
  },
  {
   "cell_type": "markdown",
   "id": "6a8aa0d8",
   "metadata": {},
   "source": [
    "Deriving the target variable for classification problem based on the edInput"
   ]
  },
  {
   "cell_type": "code",
   "execution_count": 274,
   "id": "ed119d29",
   "metadata": {},
   "outputs": [],
   "source": [
    "# Create a mapping to derive the target variable:\n",
    "# edInput value of 1 as 1 as these tweets belong to the Technology category\n",
    "# edInput value of 2 as 0 as these tweets doesnt belong to the Technology category\n",
    "\n",
    "twitter_tech.loc[:, 'Tech'] = twitter_tech['edInput'].map({1: 1, 2: 0})"
   ]
  },
  {
   "cell_type": "code",
   "execution_count": 275,
   "id": "8631c82c",
   "metadata": {},
   "outputs": [
    {
     "data": {
      "text/plain": [
       "1    0.746903\n",
       "0    0.253097\n",
       "Name: Tech, dtype: float64"
      ]
     },
     "execution_count": 275,
     "metadata": {},
     "output_type": "execute_result"
    }
   ],
   "source": [
    "twitter_tech['Tech'].value_counts(normalize=True)"
   ]
  },
  {
   "cell_type": "code",
   "execution_count": 276,
   "id": "ce63f6a2",
   "metadata": {},
   "outputs": [],
   "source": [
    "twitter_tech.drop('edInput', axis=1, inplace=True)"
   ]
  },
  {
   "cell_type": "code",
   "execution_count": 277,
   "id": "49ee53a6",
   "metadata": {},
   "outputs": [
    {
     "name": "stdout",
     "output_type": "stream",
     "text": [
      "Min creation date in the dataset: 2018-01-10\n",
      "Max creation date in the dataset: 2019-07-24\n"
     ]
    }
   ],
   "source": [
    "twitter_tech.loc[:,'crDate'].astype('datetime64[ns]')\n",
    "twitter_tech['crDate'] = pd.to_datetime(twitter_tech['crDate']).dt.date\n",
    "\n",
    "min_date = twitter_tech.crDate.min()\n",
    "max_date = twitter_tech.crDate.max()\n",
    "print(f'Min creation date in the dataset: {min_date}')\n",
    "print(f'Max creation date in the dataset: {max_date}')"
   ]
  },
  {
   "cell_type": "code",
   "execution_count": 278,
   "id": "3ce4e9de",
   "metadata": {},
   "outputs": [],
   "source": [
    "start = pd.to_datetime('2019-04-24')\n",
    "end = pd.to_datetime('2019-07-24')\n",
    "\n",
    "# Extract 3 months data.\n",
    "twitter_tech = twitter_tech[twitter_tech['crDate'].between(start, end)]"
   ]
  },
  {
   "cell_type": "code",
   "execution_count": 279,
   "id": "8b4bc687",
   "metadata": {},
   "outputs": [
    {
     "data": {
      "text/plain": [
       "1    9125\n",
       "0    1371\n",
       "Name: Tech, dtype: int64"
      ]
     },
     "execution_count": 279,
     "metadata": {},
     "output_type": "execute_result"
    }
   ],
   "source": [
    "twitter_tech['Tech'].value_counts()"
   ]
  },
  {
   "cell_type": "code",
   "execution_count": 280,
   "id": "0c876fd2",
   "metadata": {},
   "outputs": [
    {
     "data": {
      "text/plain": [
       "1    0.869379\n",
       "0    0.130621\n",
       "Name: Tech, dtype: float64"
      ]
     },
     "execution_count": 280,
     "metadata": {},
     "output_type": "execute_result"
    }
   ],
   "source": [
    "twitter_tech['Tech'].value_counts(normalize=True)"
   ]
  },
  {
   "cell_type": "code",
   "execution_count": 281,
   "id": "e78c3cc3",
   "metadata": {},
   "outputs": [
    {
     "data": {
      "text/html": [
       "<div>\n",
       "<style scoped>\n",
       "    .dataframe tbody tr th:only-of-type {\n",
       "        vertical-align: middle;\n",
       "    }\n",
       "\n",
       "    .dataframe tbody tr th {\n",
       "        vertical-align: top;\n",
       "    }\n",
       "\n",
       "    .dataframe thead th {\n",
       "        text-align: right;\n",
       "    }\n",
       "</style>\n",
       "<table border=\"1\" class=\"dataframe\">\n",
       "  <thead>\n",
       "    <tr style=\"text-align: right;\">\n",
       "      <th></th>\n",
       "      <th>text</th>\n",
       "      <th>Tech</th>\n",
       "    </tr>\n",
       "  </thead>\n",
       "  <tbody>\n",
       "    <tr>\n",
       "      <th>0</th>\n",
       "      <td>Check out this transforming boat. (Via @Chedda...</td>\n",
       "      <td>1</td>\n",
       "    </tr>\n",
       "    <tr>\n",
       "      <th>1</th>\n",
       "      <td>10 things #3dprinting can build today &gt;&gt;&gt; @gen...</td>\n",
       "      <td>1</td>\n",
       "    </tr>\n",
       "    <tr>\n",
       "      <th>2</th>\n",
       "      <td>These gloves translate sign language. https://...</td>\n",
       "      <td>1</td>\n",
       "    </tr>\n",
       "    <tr>\n",
       "      <th>3</th>\n",
       "      <td>These pools hide in plain sight. (Via @Cheddar...</td>\n",
       "      <td>1</td>\n",
       "    </tr>\n",
       "    <tr>\n",
       "      <th>4</th>\n",
       "      <td>The Future of Work, #Augmentation is Creating ...</td>\n",
       "      <td>1</td>\n",
       "    </tr>\n",
       "    <tr>\n",
       "      <th>...</th>\n",
       "      <td>...</td>\n",
       "      <td>...</td>\n",
       "    </tr>\n",
       "    <tr>\n",
       "      <th>10491</th>\n",
       "      <td>Tomorrow on @cheddar, my exclusive interview w...</td>\n",
       "      <td>0</td>\n",
       "    </tr>\n",
       "    <tr>\n",
       "      <th>10492</th>\n",
       "      <td>Netflix documentary The Great Hack turns the C...</td>\n",
       "      <td>0</td>\n",
       "    </tr>\n",
       "    <tr>\n",
       "      <th>10493</th>\n",
       "      <td>Hulu is developing a Hitchhiker’s Guide to the...</td>\n",
       "      <td>1</td>\n",
       "    </tr>\n",
       "    <tr>\n",
       "      <th>10494</th>\n",
       "      <td>This machine folds dumplings super fast. https...</td>\n",
       "      <td>1</td>\n",
       "    </tr>\n",
       "    <tr>\n",
       "      <th>10495</th>\n",
       "      <td>Heat records topple in Europe. Again. https://...</td>\n",
       "      <td>0</td>\n",
       "    </tr>\n",
       "  </tbody>\n",
       "</table>\n",
       "<p>10496 rows × 2 columns</p>\n",
       "</div>"
      ],
      "text/plain": [
       "                                                    text  Tech\n",
       "0      Check out this transforming boat. (Via @Chedda...     1\n",
       "1      10 things #3dprinting can build today >>> @gen...     1\n",
       "2      These gloves translate sign language. https://...     1\n",
       "3      These pools hide in plain sight. (Via @Cheddar...     1\n",
       "4      The Future of Work, #Augmentation is Creating ...     1\n",
       "...                                                  ...   ...\n",
       "10491  Tomorrow on @cheddar, my exclusive interview w...     0\n",
       "10492  Netflix documentary The Great Hack turns the C...     0\n",
       "10493  Hulu is developing a Hitchhiker’s Guide to the...     1\n",
       "10494  This machine folds dumplings super fast. https...     1\n",
       "10495  Heat records topple in Europe. Again. https://...     0\n",
       "\n",
       "[10496 rows x 2 columns]"
      ]
     },
     "execution_count": 281,
     "metadata": {},
     "output_type": "execute_result"
    }
   ],
   "source": [
    "# We are filtering tweets based on crDate.\n",
    "twitter_tech.drop('crDate', axis=1, inplace=True)\n",
    "twitter_tech.reset_index(drop=True)"
   ]
  },
  {
   "cell_type": "markdown",
   "id": "f0193e6f",
   "metadata": {},
   "source": [
    "We see the distribution of Tech is heavily imbalanced. \n",
    "\n",
    "1. Around 87% of the tweets belong to the category: Tech.\n",
    "\n",
    "2. Around 13% of the tweets belong to the category: non-Tech."
   ]
  },
  {
   "cell_type": "code",
   "execution_count": 282,
   "id": "cc5fb26a",
   "metadata": {},
   "outputs": [],
   "source": [
    "nlp = spacy.load('en_core_web_sm')"
   ]
  },
  {
   "cell_type": "markdown",
   "id": "8bca3ba3",
   "metadata": {},
   "source": [
    "### Analysis of word frequency"
   ]
  },
  {
   "cell_type": "code",
   "execution_count": 283,
   "id": "0ae38a8d",
   "metadata": {},
   "outputs": [],
   "source": [
    "def gen_word_freq_plot(tweet_type, words):\n",
    "    print(f'Number of words in {tweet_type} tweets: {len(words)}')  \n",
    "    word_freq = Counter(words)\n",
    "    \n",
    "    # Top 20 most frequent words in this corpus\n",
    "    n = 20\n",
    "    top_n = word_freq.most_common(n)\n",
    "    words, frequencies = zip(*top_n)  \n",
    "\n",
    "    # Plot the word frequencies\n",
    "    fig, ax = plt.subplots(figsize=(6, 3))\n",
    "    plt.xticks(rotation='vertical')\n",
    "    plt.xlabel('Words')\n",
    "    plt.ylabel('Frequency')\n",
    "    plt.title(f'Frequently used words in the {tweet_type} corpus')\n",
    "    sns.barplot(x=list(words), y=list(frequencies), ax=ax) \n",
    "    plt.show()"
   ]
  },
  {
   "cell_type": "code",
   "execution_count": 284,
   "id": "9393918e",
   "metadata": {},
   "outputs": [],
   "source": [
    "tech_tweets = twitter_tech[twitter_tech['Tech'] == 1].copy()\n",
    "non_tech_tweets = twitter_tech[twitter_tech['Tech'] == 0].copy()"
   ]
  },
  {
   "cell_type": "code",
   "execution_count": 285,
   "id": "1c780bb4",
   "metadata": {},
   "outputs": [],
   "source": [
    "tech_words = tech_tweets['text'].str.split().sum()\n",
    "non_tech_words = non_tech_tweets['text'].str.split().sum()"
   ]
  },
  {
   "cell_type": "code",
   "execution_count": 286,
   "id": "1053cfb0",
   "metadata": {},
   "outputs": [
    {
     "name": "stdout",
     "output_type": "stream",
     "text": [
      "Number of words in tech tweets: 161972\n"
     ]
    },
    {
     "data": {
      "image/png": "[encoded data removed]",
      "text/plain": [
       "<Figure size 600x300 with 1 Axes>"
      ]
     },
     "metadata": {},
     "output_type": "display_data"
    }
   ],
   "source": [
    "gen_word_freq_plot(\"tech\", tech_words)"
   ]
  },
  {
   "cell_type": "markdown",
   "id": "2676e3ff",
   "metadata": {},
   "source": [
    "The above plot shows that there are lot of high frequency stop words and some technical hashtags in top20 frequent words."
   ]
  },
  {
   "cell_type": "code",
   "execution_count": 287,
   "id": "b1f39230",
   "metadata": {
    "scrolled": true
   },
   "outputs": [
    {
     "name": "stdout",
     "output_type": "stream",
     "text": [
      "Number of words in non-tech tweets: 26781\n"
     ]
    },
    {
     "data": {
      "image/png": "[encoded data removed]",
      "text/plain": [
       "<Figure size 600x300 with 1 Axes>"
      ]
     },
     "metadata": {},
     "output_type": "display_data"
    }
   ],
   "source": [
    "gen_word_freq_plot(\"non-tech\", non_tech_words)"
   ]
  },
  {
   "cell_type": "markdown",
   "id": "b32e6ba8",
   "metadata": {},
   "source": [
    "The above plot shows that there are lot of high frequency stop words and two hashtags in top20 frequent words."
   ]
  },
  {
   "cell_type": "markdown",
   "id": "9594ebc2",
   "metadata": {},
   "source": [
    "### Word Cloud"
   ]
  },
  {
   "cell_type": "code",
   "execution_count": 288,
   "id": "f1014c2b",
   "metadata": {},
   "outputs": [],
   "source": [
    "def gen_word_cloud(tweet_type, words):   \n",
    "    corpus_text = ' '.join(words)\n",
    "\n",
    "    # Generate word cloud from the corpus\n",
    "    wordcloud = WordCloud(width=800, \n",
    "                          height=400, \n",
    "                          background_color='white', \n",
    "                         ).generate(corpus_text)\n",
    "\n",
    "    # Create the plot\n",
    "    plt.figure(figsize=(7, 7))\n",
    "    plt.imshow(wordcloud, interpolation='bilinear')\n",
    "    plt.title(f'Word Cloud in the {tweet_type} corpus')\n",
    "    plt.axis('off')\n",
    "    plt.show()"
   ]
  },
  {
   "cell_type": "code",
   "execution_count": 289,
   "id": "210d5625",
   "metadata": {
    "scrolled": true
   },
   "outputs": [
    {
     "data": {
      "image/png": "[encoded data removed]",
      "text/plain": [
       "<Figure size 700x700 with 1 Axes>"
      ]
     },
     "metadata": {},
     "output_type": "display_data"
    }
   ],
   "source": [
    "gen_word_cloud('tech', tech_words)"
   ]
  },
  {
   "cell_type": "code",
   "execution_count": 290,
   "id": "91238735",
   "metadata": {},
   "outputs": [
    {
     "data": {
      "image/png": "[encoded data removed]",
      "text/plain": [
       "<Figure size 700x700 with 1 Axes>"
      ]
     },
     "metadata": {},
     "output_type": "display_data"
    }
   ],
   "source": [
    "gen_word_cloud('non-tech', non_tech_words)"
   ]
  },
  {
   "cell_type": "markdown",
   "id": "d8b939dc",
   "metadata": {},
   "source": [
    "### Analysis of tweet length"
   ]
  },
  {
   "cell_type": "code",
   "execution_count": 291,
   "id": "9d5a26ff",
   "metadata": {},
   "outputs": [],
   "source": [
    "def gen_tweet_len_plot(tweet_type, tweet_len):\n",
    "\n",
    "    print(f'Minimum tweet length in {tweet_type} corpus: {tweet_len.min()}')\n",
    "    print(f'Maximum tweet length in {tweet_type} corpus: {tweet_len.max()}')    \n",
    "    # Create a figure and axes with desired figsize\n",
    "    fig, ax = plt.subplots(figsize=(4, 3))\n",
    "\n",
    "    plt.xlabel('Tweet Length')\n",
    "    plt.ylabel('Frequency')\n",
    "    plt.title(f'Distribution of tweet length in {tweet_type} corpus')\n",
    "\n",
    "    sns.histplot(tweet_len, kde=True, ax=ax)    "
   ]
  },
  {
   "cell_type": "code",
   "execution_count": 292,
   "id": "8426041c",
   "metadata": {},
   "outputs": [],
   "source": [
    "# Calculate text lengths\n",
    "tech_tweets['tweet_len'] = tech_tweets['text'].str.len()\n",
    "non_tech_tweets['tweet_len'] = non_tech_tweets['text'].str.len()"
   ]
  },
  {
   "cell_type": "code",
   "execution_count": 293,
   "id": "1d7b85f8",
   "metadata": {},
   "outputs": [
    {
     "name": "stdout",
     "output_type": "stream",
     "text": [
      "Minimum tweet length in tech corpus: 26\n",
      "Maximum tweet length in tech corpus: 504\n"
     ]
    },
    {
     "data": {
      "image/png": "[encoded data removed]",
      "text/plain": [
       "<Figure size 400x300 with 1 Axes>"
      ]
     },
     "metadata": {},
     "output_type": "display_data"
    }
   ],
   "source": [
    "gen_tweet_len_plot('tech', tech_tweets['tweet_len'])"
   ]
  },
  {
   "cell_type": "code",
   "execution_count": 294,
   "id": "392a6041",
   "metadata": {},
   "outputs": [
    {
     "name": "stdout",
     "output_type": "stream",
     "text": [
      "Minimum tweet length in non-tech corpus: 28\n",
      "Maximum tweet length in non-tech corpus: 744\n"
     ]
    },
    {
     "data": {
      "image/png": "[encoded data removed]",
      "text/plain": [
       "<Figure size 400x300 with 1 Axes>"
      ]
     },
     "metadata": {},
     "output_type": "display_data"
    }
   ],
   "source": [
    "gen_tweet_len_plot('non-tech', non_tech_tweets['tweet_len'])"
   ]
  },
  {
   "cell_type": "markdown",
   "id": "0e99f51d",
   "metadata": {},
   "source": [
    "### Remove Twitter links"
   ]
  },
  {
   "cell_type": "markdown",
   "id": "1a9ece33",
   "metadata": {},
   "source": [
    "http://t.co is shortened link from Twitter. Twitter automatically shortens all the links within tweets. These links doesnt provide any clue about the category of the tweet. Hence we can remove them."
   ]
  },
  {
   "cell_type": "code",
   "execution_count": 295,
   "id": "8f99f44c",
   "metadata": {},
   "outputs": [],
   "source": [
    "final_df = twitter_tech.copy()"
   ]
  },
  {
   "cell_type": "code",
   "execution_count": 296,
   "id": "df306e32",
   "metadata": {},
   "outputs": [
    {
     "data": {
      "text/plain": [
       "(10496, 2)"
      ]
     },
     "execution_count": 296,
     "metadata": {},
     "output_type": "execute_result"
    }
   ],
   "source": [
    "final_df.shape"
   ]
  },
  {
   "cell_type": "code",
   "execution_count": 297,
   "id": "50d11277",
   "metadata": {},
   "outputs": [],
   "source": [
    "def remove_twitter_links(text):\n",
    "    # Define a regex pattern to match the twitter urls http or https\n",
    "    twitter_url = re.compile(r'https?://t\\.co/[^\\s]+')\n",
    "\n",
    "    # Remove the urls in the text by replacing them with ''\n",
    "    text = twitter_url.sub('', text)\n",
    "\n",
    "    return text"
   ]
  },
  {
   "cell_type": "code",
   "execution_count": 298,
   "id": "e714214a",
   "metadata": {},
   "outputs": [
    {
     "data": {
      "application/vnd.jupyter.widget-view+json": {
       "model_id": "f6f55e4823de428c8865817805582511",
       "version_major": 2,
       "version_minor": 0
      },
      "text/plain": [
       "Pandas Apply:   0%|          | 0/10496 [00:00<?, ?it/s]"
      ]
     },
     "metadata": {},
     "output_type": "display_data"
    },
    {
     "data": {
      "text/html": [
       "<div>\n",
       "<style scoped>\n",
       "    .dataframe tbody tr th:only-of-type {\n",
       "        vertical-align: middle;\n",
       "    }\n",
       "\n",
       "    .dataframe tbody tr th {\n",
       "        vertical-align: top;\n",
       "    }\n",
       "\n",
       "    .dataframe thead th {\n",
       "        text-align: right;\n",
       "    }\n",
       "</style>\n",
       "<table border=\"1\" class=\"dataframe\">\n",
       "  <thead>\n",
       "    <tr style=\"text-align: right;\">\n",
       "      <th></th>\n",
       "      <th>text</th>\n",
       "      <th>Tech</th>\n",
       "      <th>links_removed</th>\n",
       "    </tr>\n",
       "  </thead>\n",
       "  <tbody>\n",
       "    <tr>\n",
       "      <th>539689</th>\n",
       "      <td>Check out this transforming boat. (Via @Chedda...</td>\n",
       "      <td>1</td>\n",
       "      <td>Check out this transforming boat. (Via @Chedda...</td>\n",
       "    </tr>\n",
       "    <tr>\n",
       "      <th>539694</th>\n",
       "      <td>10 things #3dprinting can build today &gt;&gt;&gt; @gen...</td>\n",
       "      <td>1</td>\n",
       "      <td>10 things #3dprinting can build today &gt;&gt;&gt; @gen...</td>\n",
       "    </tr>\n",
       "    <tr>\n",
       "      <th>539731</th>\n",
       "      <td>These gloves translate sign language. https://...</td>\n",
       "      <td>1</td>\n",
       "      <td>These gloves translate sign language.</td>\n",
       "    </tr>\n",
       "    <tr>\n",
       "      <th>539793</th>\n",
       "      <td>These pools hide in plain sight. (Via @Cheddar...</td>\n",
       "      <td>1</td>\n",
       "      <td>These pools hide in plain sight. (Via @Cheddar...</td>\n",
       "    </tr>\n",
       "    <tr>\n",
       "      <th>539795</th>\n",
       "      <td>The Future of Work, #Augmentation is Creating ...</td>\n",
       "      <td>1</td>\n",
       "      <td>The Future of Work, #Augmentation is Creating ...</td>\n",
       "    </tr>\n",
       "  </tbody>\n",
       "</table>\n",
       "</div>"
      ],
      "text/plain": [
       "                                                     text  Tech  \\\n",
       "539689  Check out this transforming boat. (Via @Chedda...     1   \n",
       "539694  10 things #3dprinting can build today >>> @gen...     1   \n",
       "539731  These gloves translate sign language. https://...     1   \n",
       "539793  These pools hide in plain sight. (Via @Cheddar...     1   \n",
       "539795  The Future of Work, #Augmentation is Creating ...     1   \n",
       "\n",
       "                                            links_removed  \n",
       "539689  Check out this transforming boat. (Via @Chedda...  \n",
       "539694  10 things #3dprinting can build today >>> @gen...  \n",
       "539731             These gloves translate sign language.   \n",
       "539793  These pools hide in plain sight. (Via @Cheddar...  \n",
       "539795  The Future of Work, #Augmentation is Creating ...  "
      ]
     },
     "execution_count": 298,
     "metadata": {},
     "output_type": "execute_result"
    }
   ],
   "source": [
    "final_df['links_removed'] = final_df['text'].swifter.apply(lambda x: remove_twitter_links(x))\n",
    "final_df.head()"
   ]
  },
  {
   "cell_type": "markdown",
   "id": "d5b9bfaa",
   "metadata": {},
   "source": [
    "### Remove Emojis"
   ]
  },
  {
   "cell_type": "code",
   "execution_count": 299,
   "id": "c8da69bc",
   "metadata": {},
   "outputs": [],
   "source": [
    "# Remove emojis from text\n",
    "def remove_emojis(text):\n",
    "    demojized_text = emoji.demojize(text)\n",
    "    # Replacing emoji as one word\n",
    "    demojized_text = demojized_text.strip(':').replace('_', '')\n",
    "    return demojized_text"
   ]
  },
  {
   "cell_type": "code",
   "execution_count": 300,
   "id": "9742acd0",
   "metadata": {},
   "outputs": [
    {
     "name": "stdout",
     "output_type": "stream",
     "text": [
      "Last Column Name: links_removed\n"
     ]
    },
    {
     "data": {
      "text/html": [
       "<div>\n",
       "<style scoped>\n",
       "    .dataframe tbody tr th:only-of-type {\n",
       "        vertical-align: middle;\n",
       "    }\n",
       "\n",
       "    .dataframe tbody tr th {\n",
       "        vertical-align: top;\n",
       "    }\n",
       "\n",
       "    .dataframe thead th {\n",
       "        text-align: right;\n",
       "    }\n",
       "</style>\n",
       "<table border=\"1\" class=\"dataframe\">\n",
       "  <thead>\n",
       "    <tr style=\"text-align: right;\">\n",
       "      <th></th>\n",
       "      <th>text</th>\n",
       "      <th>Tech</th>\n",
       "      <th>links_removed</th>\n",
       "      <th>emojis_removed</th>\n",
       "    </tr>\n",
       "  </thead>\n",
       "  <tbody>\n",
       "    <tr>\n",
       "      <th>539689</th>\n",
       "      <td>Check out this transforming boat. (Via @Chedda...</td>\n",
       "      <td>1</td>\n",
       "      <td>Check out this transforming boat. (Via @Chedda...</td>\n",
       "      <td>Check out this transforming boat. (Via @Chedda...</td>\n",
       "    </tr>\n",
       "    <tr>\n",
       "      <th>539694</th>\n",
       "      <td>10 things #3dprinting can build today &gt;&gt;&gt; @gen...</td>\n",
       "      <td>1</td>\n",
       "      <td>10 things #3dprinting can build today &gt;&gt;&gt; @gen...</td>\n",
       "      <td>10 things #3dprinting can build today &gt;&gt;&gt; @gen...</td>\n",
       "    </tr>\n",
       "    <tr>\n",
       "      <th>539731</th>\n",
       "      <td>These gloves translate sign language. https://...</td>\n",
       "      <td>1</td>\n",
       "      <td>These gloves translate sign language.</td>\n",
       "      <td>These gloves translate sign language.</td>\n",
       "    </tr>\n",
       "    <tr>\n",
       "      <th>539793</th>\n",
       "      <td>These pools hide in plain sight. (Via @Cheddar...</td>\n",
       "      <td>1</td>\n",
       "      <td>These pools hide in plain sight. (Via @Cheddar...</td>\n",
       "      <td>These pools hide in plain sight. (Via @Cheddar...</td>\n",
       "    </tr>\n",
       "    <tr>\n",
       "      <th>539795</th>\n",
       "      <td>The Future of Work, #Augmentation is Creating ...</td>\n",
       "      <td>1</td>\n",
       "      <td>The Future of Work, #Augmentation is Creating ...</td>\n",
       "      <td>The Future of Work, #Augmentation is Creating ...</td>\n",
       "    </tr>\n",
       "  </tbody>\n",
       "</table>\n",
       "</div>"
      ],
      "text/plain": [
       "                                                     text  Tech  \\\n",
       "539689  Check out this transforming boat. (Via @Chedda...     1   \n",
       "539694  10 things #3dprinting can build today >>> @gen...     1   \n",
       "539731  These gloves translate sign language. https://...     1   \n",
       "539793  These pools hide in plain sight. (Via @Cheddar...     1   \n",
       "539795  The Future of Work, #Augmentation is Creating ...     1   \n",
       "\n",
       "                                            links_removed  \\\n",
       "539689  Check out this transforming boat. (Via @Chedda...   \n",
       "539694  10 things #3dprinting can build today >>> @gen...   \n",
       "539731             These gloves translate sign language.    \n",
       "539793  These pools hide in plain sight. (Via @Cheddar...   \n",
       "539795  The Future of Work, #Augmentation is Creating ...   \n",
       "\n",
       "                                           emojis_removed  \n",
       "539689  Check out this transforming boat. (Via @Chedda...  \n",
       "539694  10 things #3dprinting can build today >>> @gen...  \n",
       "539731             These gloves translate sign language.   \n",
       "539793  These pools hide in plain sight. (Via @Cheddar...  \n",
       "539795  The Future of Work, #Augmentation is Creating ...  "
      ]
     },
     "execution_count": 300,
     "metadata": {},
     "output_type": "execute_result"
    }
   ],
   "source": [
    "# Apply emoji removal and replace them with their description.\n",
    "last_column_name = final_df.columns[-1]\n",
    "print(f'Last Column Name: {last_column_name}')\n",
    "final_df['emojis_removed'] = final_df[last_column_name].apply(remove_emojis)\n",
    "final_df.head()"
   ]
  },
  {
   "cell_type": "markdown",
   "id": "05527532",
   "metadata": {},
   "source": [
    "### Expand Contractions"
   ]
  },
  {
   "cell_type": "markdown",
   "id": "915a8483",
   "metadata": {},
   "source": [
    "This twitter text is obtained from Internet and generated by different users. The user's writing style may not be consistent. Some users might use I'm and other users might use I am. So we can make the text consistent by expanding the contractions. "
   ]
  },
  {
   "cell_type": "code",
   "execution_count": 301,
   "id": "b3017c02",
   "metadata": {},
   "outputs": [],
   "source": [
    "def expand_contractions(text):\n",
    "    # Process the text\n",
    "    doc = nlp(text)\n",
    "    expanded_text = contractions.fix(str(doc))\n",
    "    return expanded_text"
   ]
  },
  {
   "cell_type": "code",
   "execution_count": 302,
   "id": "b766476c",
   "metadata": {},
   "outputs": [
    {
     "name": "stdout",
     "output_type": "stream",
     "text": [
      "Last Column Name: emojis_removed\n"
     ]
    },
    {
     "data": {
      "application/vnd.jupyter.widget-view+json": {
       "model_id": "ca03b4b6156247808088f340fdede617",
       "version_major": 2,
       "version_minor": 0
      },
      "text/plain": [
       "Pandas Apply:   0%|          | 0/10496 [00:00<?, ?it/s]"
      ]
     },
     "metadata": {},
     "output_type": "display_data"
    },
    {
     "data": {
      "text/html": [
       "<div>\n",
       "<style scoped>\n",
       "    .dataframe tbody tr th:only-of-type {\n",
       "        vertical-align: middle;\n",
       "    }\n",
       "\n",
       "    .dataframe tbody tr th {\n",
       "        vertical-align: top;\n",
       "    }\n",
       "\n",
       "    .dataframe thead th {\n",
       "        text-align: right;\n",
       "    }\n",
       "</style>\n",
       "<table border=\"1\" class=\"dataframe\">\n",
       "  <thead>\n",
       "    <tr style=\"text-align: right;\">\n",
       "      <th></th>\n",
       "      <th>text</th>\n",
       "      <th>Tech</th>\n",
       "      <th>links_removed</th>\n",
       "      <th>emojis_removed</th>\n",
       "      <th>contractions_expanded</th>\n",
       "    </tr>\n",
       "  </thead>\n",
       "  <tbody>\n",
       "    <tr>\n",
       "      <th>539689</th>\n",
       "      <td>Check out this transforming boat. (Via @Chedda...</td>\n",
       "      <td>1</td>\n",
       "      <td>Check out this transforming boat. (Via @Chedda...</td>\n",
       "      <td>Check out this transforming boat. (Via @Chedda...</td>\n",
       "      <td>Check out this transforming boat. (Via @Chedda...</td>\n",
       "    </tr>\n",
       "    <tr>\n",
       "      <th>539694</th>\n",
       "      <td>10 things #3dprinting can build today &gt;&gt;&gt; @gen...</td>\n",
       "      <td>1</td>\n",
       "      <td>10 things #3dprinting can build today &gt;&gt;&gt; @gen...</td>\n",
       "      <td>10 things #3dprinting can build today &gt;&gt;&gt; @gen...</td>\n",
       "      <td>10 things #3dprinting can build today &gt;&gt;&gt; @gen...</td>\n",
       "    </tr>\n",
       "    <tr>\n",
       "      <th>539731</th>\n",
       "      <td>These gloves translate sign language. https://...</td>\n",
       "      <td>1</td>\n",
       "      <td>These gloves translate sign language.</td>\n",
       "      <td>These gloves translate sign language.</td>\n",
       "      <td>These gloves translate sign language.</td>\n",
       "    </tr>\n",
       "    <tr>\n",
       "      <th>539793</th>\n",
       "      <td>These pools hide in plain sight. (Via @Cheddar...</td>\n",
       "      <td>1</td>\n",
       "      <td>These pools hide in plain sight. (Via @Cheddar...</td>\n",
       "      <td>These pools hide in plain sight. (Via @Cheddar...</td>\n",
       "      <td>These pools hide in plain sight. (Via @Cheddar...</td>\n",
       "    </tr>\n",
       "    <tr>\n",
       "      <th>539795</th>\n",
       "      <td>The Future of Work, #Augmentation is Creating ...</td>\n",
       "      <td>1</td>\n",
       "      <td>The Future of Work, #Augmentation is Creating ...</td>\n",
       "      <td>The Future of Work, #Augmentation is Creating ...</td>\n",
       "      <td>The Future of Work, #Augmentation is Creating ...</td>\n",
       "    </tr>\n",
       "  </tbody>\n",
       "</table>\n",
       "</div>"
      ],
      "text/plain": [
       "                                                     text  Tech  \\\n",
       "539689  Check out this transforming boat. (Via @Chedda...     1   \n",
       "539694  10 things #3dprinting can build today >>> @gen...     1   \n",
       "539731  These gloves translate sign language. https://...     1   \n",
       "539793  These pools hide in plain sight. (Via @Cheddar...     1   \n",
       "539795  The Future of Work, #Augmentation is Creating ...     1   \n",
       "\n",
       "                                            links_removed  \\\n",
       "539689  Check out this transforming boat. (Via @Chedda...   \n",
       "539694  10 things #3dprinting can build today >>> @gen...   \n",
       "539731             These gloves translate sign language.    \n",
       "539793  These pools hide in plain sight. (Via @Cheddar...   \n",
       "539795  The Future of Work, #Augmentation is Creating ...   \n",
       "\n",
       "                                           emojis_removed  \\\n",
       "539689  Check out this transforming boat. (Via @Chedda...   \n",
       "539694  10 things #3dprinting can build today >>> @gen...   \n",
       "539731             These gloves translate sign language.    \n",
       "539793  These pools hide in plain sight. (Via @Cheddar...   \n",
       "539795  The Future of Work, #Augmentation is Creating ...   \n",
       "\n",
       "                                    contractions_expanded  \n",
       "539689  Check out this transforming boat. (Via @Chedda...  \n",
       "539694  10 things #3dprinting can build today >>> @gen...  \n",
       "539731             These gloves translate sign language.   \n",
       "539793  These pools hide in plain sight. (Via @Cheddar...  \n",
       "539795  The Future of Work, #Augmentation is Creating ...  "
      ]
     },
     "execution_count": 302,
     "metadata": {},
     "output_type": "execute_result"
    }
   ],
   "source": [
    "last_column_name = final_df.columns[-1]\n",
    "print(f'Last Column Name: {last_column_name}')\n",
    "\n",
    "final_df['contractions_expanded'] = final_df[last_column_name]\\\n",
    "                                            .swifter.apply(lambda x: expand_contractions(x))\n",
    "final_df.head()"
   ]
  },
  {
   "cell_type": "markdown",
   "id": "59cbf085",
   "metadata": {},
   "source": [
    "### Lemmatization"
   ]
  },
  {
   "cell_type": "markdown",
   "id": "2e9035b8",
   "metadata": {},
   "source": [
    "Replacing the words with its root word reduces the dimensionality and noise.Applying Stemmer may lead to incorrect spelling and it may not be dictionary word. Lemmatization is more accurate than stemming. Hence we apply lemmatization in our case."
   ]
  },
  {
   "cell_type": "code",
   "execution_count": 303,
   "id": "97ac0bdc",
   "metadata": {},
   "outputs": [],
   "source": [
    "def lemmatize_text(text):\n",
    "    # Process the text\n",
    "    doc = nlp(text)\n",
    "    \n",
    "    lemmatized_text = \" \".join([token.lemma_ for token in doc])\n",
    "    return lemmatized_text"
   ]
  },
  {
   "cell_type": "code",
   "execution_count": 304,
   "id": "fe5dcf51",
   "metadata": {},
   "outputs": [
    {
     "name": "stdout",
     "output_type": "stream",
     "text": [
      "Last Column Name: contractions_expanded\n"
     ]
    },
    {
     "data": {
      "application/vnd.jupyter.widget-view+json": {
       "model_id": "6194243ca01544a7997cd9dc40ebb9e1",
       "version_major": 2,
       "version_minor": 0
      },
      "text/plain": [
       "Pandas Apply:   0%|          | 0/10496 [00:00<?, ?it/s]"
      ]
     },
     "metadata": {},
     "output_type": "display_data"
    },
    {
     "data": {
      "text/html": [
       "<div>\n",
       "<style scoped>\n",
       "    .dataframe tbody tr th:only-of-type {\n",
       "        vertical-align: middle;\n",
       "    }\n",
       "\n",
       "    .dataframe tbody tr th {\n",
       "        vertical-align: top;\n",
       "    }\n",
       "\n",
       "    .dataframe thead th {\n",
       "        text-align: right;\n",
       "    }\n",
       "</style>\n",
       "<table border=\"1\" class=\"dataframe\">\n",
       "  <thead>\n",
       "    <tr style=\"text-align: right;\">\n",
       "      <th></th>\n",
       "      <th>text</th>\n",
       "      <th>Tech</th>\n",
       "      <th>links_removed</th>\n",
       "      <th>emojis_removed</th>\n",
       "      <th>contractions_expanded</th>\n",
       "      <th>lemmatized_text</th>\n",
       "    </tr>\n",
       "  </thead>\n",
       "  <tbody>\n",
       "    <tr>\n",
       "      <th>539689</th>\n",
       "      <td>Check out this transforming boat. (Via @Chedda...</td>\n",
       "      <td>1</td>\n",
       "      <td>Check out this transforming boat. (Via @Chedda...</td>\n",
       "      <td>Check out this transforming boat. (Via @Chedda...</td>\n",
       "      <td>Check out this transforming boat. (Via @Chedda...</td>\n",
       "      <td>check out this transform boat . ( Via @cheddar...</td>\n",
       "    </tr>\n",
       "    <tr>\n",
       "      <th>539694</th>\n",
       "      <td>10 things #3dprinting can build today &gt;&gt;&gt; @gen...</td>\n",
       "      <td>1</td>\n",
       "      <td>10 things #3dprinting can build today &gt;&gt;&gt; @gen...</td>\n",
       "      <td>10 things #3dprinting can build today &gt;&gt;&gt; @gen...</td>\n",
       "      <td>10 things #3dprinting can build today &gt;&gt;&gt; @gen...</td>\n",
       "      <td>10 thing # 3dprinting can build today &gt; &gt; &gt; @g...</td>\n",
       "    </tr>\n",
       "    <tr>\n",
       "      <th>539731</th>\n",
       "      <td>These gloves translate sign language. https://...</td>\n",
       "      <td>1</td>\n",
       "      <td>These gloves translate sign language.</td>\n",
       "      <td>These gloves translate sign language.</td>\n",
       "      <td>These gloves translate sign language.</td>\n",
       "      <td>these glove translate sign language .</td>\n",
       "    </tr>\n",
       "    <tr>\n",
       "      <th>539793</th>\n",
       "      <td>These pools hide in plain sight. (Via @Cheddar...</td>\n",
       "      <td>1</td>\n",
       "      <td>These pools hide in plain sight. (Via @Cheddar...</td>\n",
       "      <td>These pools hide in plain sight. (Via @Cheddar...</td>\n",
       "      <td>These pools hide in plain sight. (Via @Cheddar...</td>\n",
       "      <td>these pool hide in plain sight . ( Via @chedda...</td>\n",
       "    </tr>\n",
       "    <tr>\n",
       "      <th>539795</th>\n",
       "      <td>The Future of Work, #Augmentation is Creating ...</td>\n",
       "      <td>1</td>\n",
       "      <td>The Future of Work, #Augmentation is Creating ...</td>\n",
       "      <td>The Future of Work, #Augmentation is Creating ...</td>\n",
       "      <td>The Future of Work, #Augmentation is Creating ...</td>\n",
       "      <td>the future of Work , # augmentation be create ...</td>\n",
       "    </tr>\n",
       "  </tbody>\n",
       "</table>\n",
       "</div>"
      ],
      "text/plain": [
       "                                                     text  Tech  \\\n",
       "539689  Check out this transforming boat. (Via @Chedda...     1   \n",
       "539694  10 things #3dprinting can build today >>> @gen...     1   \n",
       "539731  These gloves translate sign language. https://...     1   \n",
       "539793  These pools hide in plain sight. (Via @Cheddar...     1   \n",
       "539795  The Future of Work, #Augmentation is Creating ...     1   \n",
       "\n",
       "                                            links_removed  \\\n",
       "539689  Check out this transforming boat. (Via @Chedda...   \n",
       "539694  10 things #3dprinting can build today >>> @gen...   \n",
       "539731             These gloves translate sign language.    \n",
       "539793  These pools hide in plain sight. (Via @Cheddar...   \n",
       "539795  The Future of Work, #Augmentation is Creating ...   \n",
       "\n",
       "                                           emojis_removed  \\\n",
       "539689  Check out this transforming boat. (Via @Chedda...   \n",
       "539694  10 things #3dprinting can build today >>> @gen...   \n",
       "539731             These gloves translate sign language.    \n",
       "539793  These pools hide in plain sight. (Via @Cheddar...   \n",
       "539795  The Future of Work, #Augmentation is Creating ...   \n",
       "\n",
       "                                    contractions_expanded  \\\n",
       "539689  Check out this transforming boat. (Via @Chedda...   \n",
       "539694  10 things #3dprinting can build today >>> @gen...   \n",
       "539731             These gloves translate sign language.    \n",
       "539793  These pools hide in plain sight. (Via @Cheddar...   \n",
       "539795  The Future of Work, #Augmentation is Creating ...   \n",
       "\n",
       "                                          lemmatized_text  \n",
       "539689  check out this transform boat . ( Via @cheddar...  \n",
       "539694  10 thing # 3dprinting can build today > > > @g...  \n",
       "539731              these glove translate sign language .  \n",
       "539793  these pool hide in plain sight . ( Via @chedda...  \n",
       "539795  the future of Work , # augmentation be create ...  "
      ]
     },
     "execution_count": 304,
     "metadata": {},
     "output_type": "execute_result"
    }
   ],
   "source": [
    "last_column_name = final_df.columns[-1]\n",
    "print(f'Last Column Name: {last_column_name}')\n",
    "\n",
    "final_df['lemmatized_text'] = final_df[last_column_name].swifter.apply(\n",
    "                                    lambda x: lemmatize_text(x))\n",
    "final_df.head()"
   ]
  },
  {
   "cell_type": "code",
   "execution_count": 305,
   "id": "cf106b04",
   "metadata": {},
   "outputs": [],
   "source": [
    "def remove_unnecessary_characters(text):\n",
    "    # Replace \\n with space character\n",
    "    cleaned_text = re.sub(r'\\n+', ' ', text)\n",
    "   \n",
    "    # Remove special characters using regex\n",
    "    cleaned_text = re.sub(r'[^a-zA-Z0-9\\s]', '', text)\n",
    "\n",
    "    # Replace multiple spaces with a single space\n",
    "    cleaned_text = re.sub(r'\\s+', ' ', cleaned_text)\n",
    "    \n",
    "    # Remove training and leading spaces\n",
    "    cleaned_text = cleaned_text.strip()\n",
    "    \n",
    "    return cleaned_text"
   ]
  },
  {
   "cell_type": "code",
   "execution_count": 306,
   "id": "1e3ef949",
   "metadata": {},
   "outputs": [
    {
     "name": "stdout",
     "output_type": "stream",
     "text": [
      "Last Column Name: lemmatized_text\n"
     ]
    },
    {
     "data": {
      "application/vnd.jupyter.widget-view+json": {
       "model_id": "0ce188d21fc34849b5c65994b0f337be",
       "version_major": 2,
       "version_minor": 0
      },
      "text/plain": [
       "Pandas Apply:   0%|          | 0/10496 [00:00<?, ?it/s]"
      ]
     },
     "metadata": {},
     "output_type": "display_data"
    },
    {
     "data": {
      "text/html": [
       "<div>\n",
       "<style scoped>\n",
       "    .dataframe tbody tr th:only-of-type {\n",
       "        vertical-align: middle;\n",
       "    }\n",
       "\n",
       "    .dataframe tbody tr th {\n",
       "        vertical-align: top;\n",
       "    }\n",
       "\n",
       "    .dataframe thead th {\n",
       "        text-align: right;\n",
       "    }\n",
       "</style>\n",
       "<table border=\"1\" class=\"dataframe\">\n",
       "  <thead>\n",
       "    <tr style=\"text-align: right;\">\n",
       "      <th></th>\n",
       "      <th>text</th>\n",
       "      <th>Tech</th>\n",
       "      <th>links_removed</th>\n",
       "      <th>emojis_removed</th>\n",
       "      <th>contractions_expanded</th>\n",
       "      <th>lemmatized_text</th>\n",
       "      <th>unnecessary_chars_removed</th>\n",
       "    </tr>\n",
       "  </thead>\n",
       "  <tbody>\n",
       "    <tr>\n",
       "      <th>539689</th>\n",
       "      <td>Check out this transforming boat. (Via @Chedda...</td>\n",
       "      <td>1</td>\n",
       "      <td>Check out this transforming boat. (Via @Chedda...</td>\n",
       "      <td>Check out this transforming boat. (Via @Chedda...</td>\n",
       "      <td>Check out this transforming boat. (Via @Chedda...</td>\n",
       "      <td>check out this transform boat . ( Via @cheddar...</td>\n",
       "      <td>check out this transform boat Via cheddargadget</td>\n",
       "    </tr>\n",
       "    <tr>\n",
       "      <th>539694</th>\n",
       "      <td>10 things #3dprinting can build today &gt;&gt;&gt; @gen...</td>\n",
       "      <td>1</td>\n",
       "      <td>10 things #3dprinting can build today &gt;&gt;&gt; @gen...</td>\n",
       "      <td>10 things #3dprinting can build today &gt;&gt;&gt; @gen...</td>\n",
       "      <td>10 things #3dprinting can build today &gt;&gt;&gt; @gen...</td>\n",
       "      <td>10 thing # 3dprinting can build today &gt; &gt; &gt; @g...</td>\n",
       "      <td>10 thing 3dprinting can build today generalele...</td>\n",
       "    </tr>\n",
       "    <tr>\n",
       "      <th>539731</th>\n",
       "      <td>These gloves translate sign language. https://...</td>\n",
       "      <td>1</td>\n",
       "      <td>These gloves translate sign language.</td>\n",
       "      <td>These gloves translate sign language.</td>\n",
       "      <td>These gloves translate sign language.</td>\n",
       "      <td>these glove translate sign language .</td>\n",
       "      <td>these glove translate sign language</td>\n",
       "    </tr>\n",
       "    <tr>\n",
       "      <th>539793</th>\n",
       "      <td>These pools hide in plain sight. (Via @Cheddar...</td>\n",
       "      <td>1</td>\n",
       "      <td>These pools hide in plain sight. (Via @Cheddar...</td>\n",
       "      <td>These pools hide in plain sight. (Via @Cheddar...</td>\n",
       "      <td>These pools hide in plain sight. (Via @Cheddar...</td>\n",
       "      <td>these pool hide in plain sight . ( Via @chedda...</td>\n",
       "      <td>these pool hide in plain sight Via cheddargadget</td>\n",
       "    </tr>\n",
       "    <tr>\n",
       "      <th>539795</th>\n",
       "      <td>The Future of Work, #Augmentation is Creating ...</td>\n",
       "      <td>1</td>\n",
       "      <td>The Future of Work, #Augmentation is Creating ...</td>\n",
       "      <td>The Future of Work, #Augmentation is Creating ...</td>\n",
       "      <td>The Future of Work, #Augmentation is Creating ...</td>\n",
       "      <td>the future of Work , # augmentation be create ...</td>\n",
       "      <td>the future of Work augmentation be create a po...</td>\n",
       "    </tr>\n",
       "  </tbody>\n",
       "</table>\n",
       "</div>"
      ],
      "text/plain": [
       "                                                     text  Tech  \\\n",
       "539689  Check out this transforming boat. (Via @Chedda...     1   \n",
       "539694  10 things #3dprinting can build today >>> @gen...     1   \n",
       "539731  These gloves translate sign language. https://...     1   \n",
       "539793  These pools hide in plain sight. (Via @Cheddar...     1   \n",
       "539795  The Future of Work, #Augmentation is Creating ...     1   \n",
       "\n",
       "                                            links_removed  \\\n",
       "539689  Check out this transforming boat. (Via @Chedda...   \n",
       "539694  10 things #3dprinting can build today >>> @gen...   \n",
       "539731             These gloves translate sign language.    \n",
       "539793  These pools hide in plain sight. (Via @Cheddar...   \n",
       "539795  The Future of Work, #Augmentation is Creating ...   \n",
       "\n",
       "                                           emojis_removed  \\\n",
       "539689  Check out this transforming boat. (Via @Chedda...   \n",
       "539694  10 things #3dprinting can build today >>> @gen...   \n",
       "539731             These gloves translate sign language.    \n",
       "539793  These pools hide in plain sight. (Via @Cheddar...   \n",
       "539795  The Future of Work, #Augmentation is Creating ...   \n",
       "\n",
       "                                    contractions_expanded  \\\n",
       "539689  Check out this transforming boat. (Via @Chedda...   \n",
       "539694  10 things #3dprinting can build today >>> @gen...   \n",
       "539731             These gloves translate sign language.    \n",
       "539793  These pools hide in plain sight. (Via @Cheddar...   \n",
       "539795  The Future of Work, #Augmentation is Creating ...   \n",
       "\n",
       "                                          lemmatized_text  \\\n",
       "539689  check out this transform boat . ( Via @cheddar...   \n",
       "539694  10 thing # 3dprinting can build today > > > @g...   \n",
       "539731              these glove translate sign language .   \n",
       "539793  these pool hide in plain sight . ( Via @chedda...   \n",
       "539795  the future of Work , # augmentation be create ...   \n",
       "\n",
       "                                unnecessary_chars_removed  \n",
       "539689    check out this transform boat Via cheddargadget  \n",
       "539694  10 thing 3dprinting can build today generalele...  \n",
       "539731                these glove translate sign language  \n",
       "539793   these pool hide in plain sight Via cheddargadget  \n",
       "539795  the future of Work augmentation be create a po...  "
      ]
     },
     "execution_count": 306,
     "metadata": {},
     "output_type": "execute_result"
    }
   ],
   "source": [
    "last_column_name = final_df.columns[-1]\n",
    "print(f'Last Column Name: {last_column_name}')\n",
    "\n",
    "final_df['unnecessary_chars_removed'] = final_df[last_column_name].swifter.apply(\n",
    "                                            lambda x: remove_unnecessary_characters(x))\n",
    "final_df.head()"
   ]
  },
  {
   "cell_type": "code",
   "execution_count": 307,
   "id": "fc4ddbd0",
   "metadata": {},
   "outputs": [
    {
     "name": "stdout",
     "output_type": "stream",
     "text": [
      "Last Column Name: unnecessary_chars_removed\n"
     ]
    },
    {
     "data": {
      "text/html": [
       "<div>\n",
       "<style scoped>\n",
       "    .dataframe tbody tr th:only-of-type {\n",
       "        vertical-align: middle;\n",
       "    }\n",
       "\n",
       "    .dataframe tbody tr th {\n",
       "        vertical-align: top;\n",
       "    }\n",
       "\n",
       "    .dataframe thead th {\n",
       "        text-align: right;\n",
       "    }\n",
       "</style>\n",
       "<table border=\"1\" class=\"dataframe\">\n",
       "  <thead>\n",
       "    <tr style=\"text-align: right;\">\n",
       "      <th></th>\n",
       "      <th>text</th>\n",
       "      <th>Tech</th>\n",
       "      <th>links_removed</th>\n",
       "      <th>emojis_removed</th>\n",
       "      <th>contractions_expanded</th>\n",
       "      <th>lemmatized_text</th>\n",
       "      <th>unnecessary_chars_removed</th>\n",
       "      <th>processed_tweet</th>\n",
       "    </tr>\n",
       "  </thead>\n",
       "  <tbody>\n",
       "    <tr>\n",
       "      <th>539689</th>\n",
       "      <td>Check out this transforming boat. (Via @Chedda...</td>\n",
       "      <td>1</td>\n",
       "      <td>Check out this transforming boat. (Via @Chedda...</td>\n",
       "      <td>Check out this transforming boat. (Via @Chedda...</td>\n",
       "      <td>Check out this transforming boat. (Via @Chedda...</td>\n",
       "      <td>check out this transform boat . ( Via @cheddar...</td>\n",
       "      <td>check out this transform boat Via cheddargadget</td>\n",
       "      <td>check out this transform boat via cheddargadget</td>\n",
       "    </tr>\n",
       "    <tr>\n",
       "      <th>539694</th>\n",
       "      <td>10 things #3dprinting can build today &gt;&gt;&gt; @gen...</td>\n",
       "      <td>1</td>\n",
       "      <td>10 things #3dprinting can build today &gt;&gt;&gt; @gen...</td>\n",
       "      <td>10 things #3dprinting can build today &gt;&gt;&gt; @gen...</td>\n",
       "      <td>10 things #3dprinting can build today &gt;&gt;&gt; @gen...</td>\n",
       "      <td>10 thing # 3dprinting can build today &gt; &gt; &gt; @g...</td>\n",
       "      <td>10 thing 3dprinting can build today generalele...</td>\n",
       "      <td>10 thing 3dprinting can build today generalele...</td>\n",
       "    </tr>\n",
       "    <tr>\n",
       "      <th>539731</th>\n",
       "      <td>These gloves translate sign language. https://...</td>\n",
       "      <td>1</td>\n",
       "      <td>These gloves translate sign language.</td>\n",
       "      <td>These gloves translate sign language.</td>\n",
       "      <td>These gloves translate sign language.</td>\n",
       "      <td>these glove translate sign language .</td>\n",
       "      <td>these glove translate sign language</td>\n",
       "      <td>these glove translate sign language</td>\n",
       "    </tr>\n",
       "    <tr>\n",
       "      <th>539793</th>\n",
       "      <td>These pools hide in plain sight. (Via @Cheddar...</td>\n",
       "      <td>1</td>\n",
       "      <td>These pools hide in plain sight. (Via @Cheddar...</td>\n",
       "      <td>These pools hide in plain sight. (Via @Cheddar...</td>\n",
       "      <td>These pools hide in plain sight. (Via @Cheddar...</td>\n",
       "      <td>these pool hide in plain sight . ( Via @chedda...</td>\n",
       "      <td>these pool hide in plain sight Via cheddargadget</td>\n",
       "      <td>these pool hide in plain sight via cheddargadget</td>\n",
       "    </tr>\n",
       "    <tr>\n",
       "      <th>539795</th>\n",
       "      <td>The Future of Work, #Augmentation is Creating ...</td>\n",
       "      <td>1</td>\n",
       "      <td>The Future of Work, #Augmentation is Creating ...</td>\n",
       "      <td>The Future of Work, #Augmentation is Creating ...</td>\n",
       "      <td>The Future of Work, #Augmentation is Creating ...</td>\n",
       "      <td>the future of Work , # augmentation be create ...</td>\n",
       "      <td>the future of Work augmentation be create a po...</td>\n",
       "      <td>the future of work augmentation be create a po...</td>\n",
       "    </tr>\n",
       "  </tbody>\n",
       "</table>\n",
       "</div>"
      ],
      "text/plain": [
       "                                                     text  Tech  \\\n",
       "539689  Check out this transforming boat. (Via @Chedda...     1   \n",
       "539694  10 things #3dprinting can build today >>> @gen...     1   \n",
       "539731  These gloves translate sign language. https://...     1   \n",
       "539793  These pools hide in plain sight. (Via @Cheddar...     1   \n",
       "539795  The Future of Work, #Augmentation is Creating ...     1   \n",
       "\n",
       "                                            links_removed  \\\n",
       "539689  Check out this transforming boat. (Via @Chedda...   \n",
       "539694  10 things #3dprinting can build today >>> @gen...   \n",
       "539731             These gloves translate sign language.    \n",
       "539793  These pools hide in plain sight. (Via @Cheddar...   \n",
       "539795  The Future of Work, #Augmentation is Creating ...   \n",
       "\n",
       "                                           emojis_removed  \\\n",
       "539689  Check out this transforming boat. (Via @Chedda...   \n",
       "539694  10 things #3dprinting can build today >>> @gen...   \n",
       "539731             These gloves translate sign language.    \n",
       "539793  These pools hide in plain sight. (Via @Cheddar...   \n",
       "539795  The Future of Work, #Augmentation is Creating ...   \n",
       "\n",
       "                                    contractions_expanded  \\\n",
       "539689  Check out this transforming boat. (Via @Chedda...   \n",
       "539694  10 things #3dprinting can build today >>> @gen...   \n",
       "539731             These gloves translate sign language.    \n",
       "539793  These pools hide in plain sight. (Via @Cheddar...   \n",
       "539795  The Future of Work, #Augmentation is Creating ...   \n",
       "\n",
       "                                          lemmatized_text  \\\n",
       "539689  check out this transform boat . ( Via @cheddar...   \n",
       "539694  10 thing # 3dprinting can build today > > > @g...   \n",
       "539731              these glove translate sign language .   \n",
       "539793  these pool hide in plain sight . ( Via @chedda...   \n",
       "539795  the future of Work , # augmentation be create ...   \n",
       "\n",
       "                                unnecessary_chars_removed  \\\n",
       "539689    check out this transform boat Via cheddargadget   \n",
       "539694  10 thing 3dprinting can build today generalele...   \n",
       "539731                these glove translate sign language   \n",
       "539793   these pool hide in plain sight Via cheddargadget   \n",
       "539795  the future of Work augmentation be create a po...   \n",
       "\n",
       "                                          processed_tweet  \n",
       "539689    check out this transform boat via cheddargadget  \n",
       "539694  10 thing 3dprinting can build today generalele...  \n",
       "539731                these glove translate sign language  \n",
       "539793   these pool hide in plain sight via cheddargadget  \n",
       "539795  the future of work augmentation be create a po...  "
      ]
     },
     "execution_count": 307,
     "metadata": {},
     "output_type": "execute_result"
    }
   ],
   "source": [
    "last_column_name = final_df.columns[-1]\n",
    "print(f'Last Column Name: {last_column_name}')\n",
    "\n",
    "final_df['processed_tweet'] = final_df[last_column_name].apply(lambda x: x.lower())\n",
    "final_df.head()"
   ]
  },
  {
   "cell_type": "code",
   "execution_count": 308,
   "id": "dd5960d0",
   "metadata": {
    "scrolled": true
   },
   "outputs": [
    {
     "data": {
      "text/html": [
       "<div>\n",
       "<style scoped>\n",
       "    .dataframe tbody tr th:only-of-type {\n",
       "        vertical-align: middle;\n",
       "    }\n",
       "\n",
       "    .dataframe tbody tr th {\n",
       "        vertical-align: top;\n",
       "    }\n",
       "\n",
       "    .dataframe thead th {\n",
       "        text-align: right;\n",
       "    }\n",
       "</style>\n",
       "<table border=\"1\" class=\"dataframe\">\n",
       "  <thead>\n",
       "    <tr style=\"text-align: right;\">\n",
       "      <th></th>\n",
       "      <th>text</th>\n",
       "      <th>Tech</th>\n",
       "      <th>links_removed</th>\n",
       "      <th>emojis_removed</th>\n",
       "      <th>contractions_expanded</th>\n",
       "      <th>lemmatized_text</th>\n",
       "      <th>unnecessary_chars_removed</th>\n",
       "      <th>processed_tweet</th>\n",
       "    </tr>\n",
       "  </thead>\n",
       "  <tbody>\n",
       "    <tr>\n",
       "      <th>539689</th>\n",
       "      <td>Check out this transforming boat. (Via @Chedda...</td>\n",
       "      <td>1</td>\n",
       "      <td>Check out this transforming boat. (Via @Chedda...</td>\n",
       "      <td>Check out this transforming boat. (Via @Chedda...</td>\n",
       "      <td>Check out this transforming boat. (Via @Chedda...</td>\n",
       "      <td>check out this transform boat . ( Via @cheddar...</td>\n",
       "      <td>check out this transform boat Via cheddargadget</td>\n",
       "      <td>check out this transform boat via cheddargadget</td>\n",
       "    </tr>\n",
       "    <tr>\n",
       "      <th>539694</th>\n",
       "      <td>10 things #3dprinting can build today &gt;&gt;&gt; @gen...</td>\n",
       "      <td>1</td>\n",
       "      <td>10 things #3dprinting can build today &gt;&gt;&gt; @gen...</td>\n",
       "      <td>10 things #3dprinting can build today &gt;&gt;&gt; @gen...</td>\n",
       "      <td>10 things #3dprinting can build today &gt;&gt;&gt; @gen...</td>\n",
       "      <td>10 thing # 3dprinting can build today &gt; &gt; &gt; @g...</td>\n",
       "      <td>10 thing 3dprinting can build today generalele...</td>\n",
       "      <td>10 thing 3dprinting can build today generalele...</td>\n",
       "    </tr>\n",
       "    <tr>\n",
       "      <th>539731</th>\n",
       "      <td>These gloves translate sign language. https://...</td>\n",
       "      <td>1</td>\n",
       "      <td>These gloves translate sign language.</td>\n",
       "      <td>These gloves translate sign language.</td>\n",
       "      <td>These gloves translate sign language.</td>\n",
       "      <td>these glove translate sign language .</td>\n",
       "      <td>these glove translate sign language</td>\n",
       "      <td>these glove translate sign language</td>\n",
       "    </tr>\n",
       "    <tr>\n",
       "      <th>539793</th>\n",
       "      <td>These pools hide in plain sight. (Via @Cheddar...</td>\n",
       "      <td>1</td>\n",
       "      <td>These pools hide in plain sight. (Via @Cheddar...</td>\n",
       "      <td>These pools hide in plain sight. (Via @Cheddar...</td>\n",
       "      <td>These pools hide in plain sight. (Via @Cheddar...</td>\n",
       "      <td>these pool hide in plain sight . ( Via @chedda...</td>\n",
       "      <td>these pool hide in plain sight Via cheddargadget</td>\n",
       "      <td>these pool hide in plain sight via cheddargadget</td>\n",
       "    </tr>\n",
       "    <tr>\n",
       "      <th>539795</th>\n",
       "      <td>The Future of Work, #Augmentation is Creating ...</td>\n",
       "      <td>1</td>\n",
       "      <td>The Future of Work, #Augmentation is Creating ...</td>\n",
       "      <td>The Future of Work, #Augmentation is Creating ...</td>\n",
       "      <td>The Future of Work, #Augmentation is Creating ...</td>\n",
       "      <td>the future of Work , # augmentation be create ...</td>\n",
       "      <td>the future of Work augmentation be create a po...</td>\n",
       "      <td>the future of work augmentation be create a po...</td>\n",
       "    </tr>\n",
       "  </tbody>\n",
       "</table>\n",
       "</div>"
      ],
      "text/plain": [
       "                                                     text  Tech  \\\n",
       "539689  Check out this transforming boat. (Via @Chedda...     1   \n",
       "539694  10 things #3dprinting can build today >>> @gen...     1   \n",
       "539731  These gloves translate sign language. https://...     1   \n",
       "539793  These pools hide in plain sight. (Via @Cheddar...     1   \n",
       "539795  The Future of Work, #Augmentation is Creating ...     1   \n",
       "\n",
       "                                            links_removed  \\\n",
       "539689  Check out this transforming boat. (Via @Chedda...   \n",
       "539694  10 things #3dprinting can build today >>> @gen...   \n",
       "539731             These gloves translate sign language.    \n",
       "539793  These pools hide in plain sight. (Via @Cheddar...   \n",
       "539795  The Future of Work, #Augmentation is Creating ...   \n",
       "\n",
       "                                           emojis_removed  \\\n",
       "539689  Check out this transforming boat. (Via @Chedda...   \n",
       "539694  10 things #3dprinting can build today >>> @gen...   \n",
       "539731             These gloves translate sign language.    \n",
       "539793  These pools hide in plain sight. (Via @Cheddar...   \n",
       "539795  The Future of Work, #Augmentation is Creating ...   \n",
       "\n",
       "                                    contractions_expanded  \\\n",
       "539689  Check out this transforming boat. (Via @Chedda...   \n",
       "539694  10 things #3dprinting can build today >>> @gen...   \n",
       "539731             These gloves translate sign language.    \n",
       "539793  These pools hide in plain sight. (Via @Cheddar...   \n",
       "539795  The Future of Work, #Augmentation is Creating ...   \n",
       "\n",
       "                                          lemmatized_text  \\\n",
       "539689  check out this transform boat . ( Via @cheddar...   \n",
       "539694  10 thing # 3dprinting can build today > > > @g...   \n",
       "539731              these glove translate sign language .   \n",
       "539793  these pool hide in plain sight . ( Via @chedda...   \n",
       "539795  the future of Work , # augmentation be create ...   \n",
       "\n",
       "                                unnecessary_chars_removed  \\\n",
       "539689    check out this transform boat Via cheddargadget   \n",
       "539694  10 thing 3dprinting can build today generalele...   \n",
       "539731                these glove translate sign language   \n",
       "539793   these pool hide in plain sight Via cheddargadget   \n",
       "539795  the future of Work augmentation be create a po...   \n",
       "\n",
       "                                          processed_tweet  \n",
       "539689    check out this transform boat via cheddargadget  \n",
       "539694  10 thing 3dprinting can build today generalele...  \n",
       "539731                these glove translate sign language  \n",
       "539793   these pool hide in plain sight via cheddargadget  \n",
       "539795  the future of work augmentation be create a po...  "
      ]
     },
     "execution_count": 308,
     "metadata": {},
     "output_type": "execute_result"
    }
   ],
   "source": [
    "# Replace empty strings with NaN and drop NaN rows\n",
    "final_df['processed_tweet'].replace('', np.nan, inplace=True)\n",
    "final_df.head()"
   ]
  },
  {
   "cell_type": "markdown",
   "id": "bce37695",
   "metadata": {},
   "source": [
    "### Modelling with Imbalanced Data"
   ]
  },
  {
   "cell_type": "code",
   "execution_count": 309,
   "id": "2a80118a",
   "metadata": {},
   "outputs": [
    {
     "data": {
      "text/plain": [
       "1    0.869379\n",
       "0    0.130621\n",
       "Name: Tech, dtype: float64"
      ]
     },
     "execution_count": 309,
     "metadata": {},
     "output_type": "execute_result"
    }
   ],
   "source": [
    "twitter_tech['Tech'].value_counts(normalize=True)"
   ]
  },
  {
   "cell_type": "code",
   "execution_count": 310,
   "id": "f2ceb574",
   "metadata": {},
   "outputs": [],
   "source": [
    "X = twitter_tech['text']\n",
    "y = twitter_tech['Tech']"
   ]
  },
  {
   "cell_type": "code",
   "execution_count": 311,
   "id": "65ac2049",
   "metadata": {},
   "outputs": [],
   "source": [
    "# Train test split\n",
    "# Stratified sampling is set here to ensure the same class distribution of the variable: Tech\n",
    "# in train and test datasets even after the split.\n",
    "X_train, X_test, y_train, y_test = train_test_split(X,\n",
    "                                                    y,\n",
    "                                                    test_size=0.1,\n",
    "                                                    stratify=y,\n",
    "                                                    random_state=100)"
   ]
  },
  {
   "cell_type": "code",
   "execution_count": 312,
   "id": "c0617891",
   "metadata": {},
   "outputs": [
    {
     "data": {
      "text/plain": [
       "(9446,)"
      ]
     },
     "execution_count": 312,
     "metadata": {},
     "output_type": "execute_result"
    }
   ],
   "source": [
    "X_train.shape"
   ]
  },
  {
   "cell_type": "code",
   "execution_count": 313,
   "id": "e7714bad",
   "metadata": {},
   "outputs": [
    {
     "data": {
      "text/plain": [
       "(1050,)"
      ]
     },
     "execution_count": 313,
     "metadata": {},
     "output_type": "execute_result"
    }
   ],
   "source": [
    "X_test.shape"
   ]
  },
  {
   "cell_type": "markdown",
   "id": "9e81eee1",
   "metadata": {},
   "source": [
    "### Text Preprocessor"
   ]
  },
  {
   "cell_type": "code",
   "execution_count": 314,
   "id": "8a499e83",
   "metadata": {},
   "outputs": [],
   "source": [
    "class TextPreprocessor(BaseEstimator, TransformerMixin):\n",
    "    def __init__(self, stop_words=None):\n",
    "        self.stop_words = stop_words\n",
    "\n",
    "    def fit(self, X, y=None):\n",
    "        # There is no learning from the training data \n",
    "        return self\n",
    "\n",
    "    def transform(self, X, y=None):\n",
    "        return X.apply(self.preprocess_text)\n",
    "\n",
    "    def fit_transform(self, X, y=None):\n",
    "        return self.fit(X, y).transform(X, y)\n",
    "    \n",
    "    def preprocess_text(self, text):\n",
    "        # Convert text to lowercase.\n",
    "        text = text.lower()\n",
    "\n",
    "        # Remove twitter links\n",
    "        twitter_url = re.compile(r'https?://t\\.co/[^\\s]+')\n",
    "        text = twitter_url.sub('', text)\n",
    "\n",
    "        # Remove emojis\n",
    "        text = emoji.demojize(text)\n",
    "        text = text.strip(':').replace('_', '')        \n",
    "\n",
    "        # Expand contractions\n",
    "        text = contractions.fix(text)\n",
    "\n",
    "        # Lemmatize text\n",
    "        doc = nlp(text)\n",
    "        text = \" \".join([token.lemma_ for token in doc])\n",
    "\n",
    "        # Remove configured stop words\n",
    "        text = \" \".join([word for word in text.split() if word not in self.stop_words])\n",
    "\n",
    "        # Replace \\n with space character\n",
    "        text = re.sub(r'\\n+', ' ', text)\n",
    "\n",
    "        # Remove special characters\n",
    "        text = re.sub(r'[^a-zA-Z0-9\\s]', '', text)\n",
    "\n",
    "        # Replace multiple spaces with a single space\n",
    "        text = re.sub(r'\\s+', ' ', text)\n",
    "\n",
    "        # Remove leading and trailing spaces if any\n",
    "        text = text.strip()\n",
    "\n",
    "        return text"
   ]
  },
  {
   "cell_type": "code",
   "execution_count": 315,
   "id": "282592ce",
   "metadata": {},
   "outputs": [
    {
     "name": "stdout",
     "output_type": "stream",
     "text": [
      "Number of stop words in English: 179\n"
     ]
    }
   ],
   "source": [
    "# NLTK stop word list.\n",
    "stop_words = set(stopwords.words('english'))\n",
    "print(f'Number of stop words in English: {len(stop_words)}')"
   ]
  },
  {
   "cell_type": "markdown",
   "id": "48306856",
   "metadata": {},
   "source": [
    "### Finding the number of components for TruncatedSVD"
   ]
  },
  {
   "cell_type": "code",
   "execution_count": 316,
   "id": "bca417c4",
   "metadata": {},
   "outputs": [],
   "source": [
    "# Text processor\n",
    "txt_processor = TextPreprocessor(stop_words=stop_words)\n",
    "X_train_processed = txt_processor.fit_transform(X_train)\n",
    "X_test_processed = txt_processor.transform(X_test)"
   ]
  },
  {
   "cell_type": "code",
   "execution_count": 317,
   "id": "68656790",
   "metadata": {},
   "outputs": [],
   "source": [
    "# TFIDF Vectorizer\n",
    "# Considering unigram and bigram features\n",
    "tfid = TfidfVectorizer(ngram_range=(1,2), max_features=10000)\n",
    "X_train_vectorized = tfid.fit_transform(X_train_processed)\n",
    "X_test_vectorized = tfid.transform(X_test_processed)"
   ]
  },
  {
   "cell_type": "code",
   "execution_count": 318,
   "id": "db3508ee",
   "metadata": {},
   "outputs": [],
   "source": [
    "# Dimensionality reduction using SVD\n",
    "\n",
    "# Totally there are 10000 features. \n",
    "# We select the following number of features for checking the explained variance.\n",
    "components = [1000, 2000, 3000, 4000, 5000]\n",
    "exp_var = []\n",
    "\n",
    "# Find the optimal number of components for dimensionality reduction.\n",
    "for comp in components:\n",
    "    svd = TruncatedSVD(n_components=comp)\n",
    "    svd.fit(X_train_vectorized)\n",
    "    var_exp = svd.explained_variance_ratio_.sum()\n",
    "    exp_var.append(var_exp)"
   ]
  },
  {
   "cell_type": "code",
   "execution_count": 319,
   "id": "5c6c948f",
   "metadata": {},
   "outputs": [],
   "source": [
    "def plt_explained_variance(x=components, y=exp_var):\n",
    "    fig, ax = plt.subplots(figsize=(8,8))\n",
    "    plt.plot(x, y, 'bo-')\n",
    "    plt.xlabel('Number of components')\n",
    "    plt.ylabel('Explained Variance Ratio')\n",
    "    plt.title('Explained Variance using Elbow method')\n",
    "    for index in range(len(x)):\n",
    "        ax.text(x[index], y[index], round(y[index],2), size=12)\n",
    "    \n",
    "    plt.show()"
   ]
  },
  {
   "cell_type": "code",
   "execution_count": 320,
   "id": "eb6682a0",
   "metadata": {},
   "outputs": [
    {
     "data": {
      "text/plain": [
       "[0.6183083777161005,\n",
       " 0.8232732488030434,\n",
       " 0.9234046462462873,\n",
       " 0.9721517216662197,\n",
       " 0.9930325815334127]"
      ]
     },
     "execution_count": 320,
     "metadata": {},
     "output_type": "execute_result"
    }
   ],
   "source": [
    "exp_var"
   ]
  },
  {
   "cell_type": "code",
   "execution_count": 321,
   "id": "a749712d",
   "metadata": {},
   "outputs": [
    {
     "data": {
      "image/png": "[encoded data removed]",
      "text/plain": [
       "<Figure size 800x800 with 1 Axes>"
      ]
     },
     "metadata": {},
     "output_type": "display_data"
    }
   ],
   "source": [
    "plt_explained_variance(components, exp_var)"
   ]
  },
  {
   "cell_type": "markdown",
   "id": "5e671389",
   "metadata": {},
   "source": [
    "Selecting the number of components as 5000 as it explains 99% variance."
   ]
  },
  {
   "cell_type": "code",
   "execution_count": 359,
   "id": "bb253a46",
   "metadata": {},
   "outputs": [],
   "source": [
    "class BaseClassifierModel(BaseEstimator, ClassifierMixin):\n",
    "    def __init__(self, classifier=LogisticRegression()):\n",
    "        self.classifier = classifier\n",
    "\n",
    "    def fit(self, X, y=None):\n",
    "        self.classifier.fit(X, y)\n",
    "        return self\n",
    "\n",
    "    def predict(self, X, y=None):\n",
    "        return self.classifier.predict(X)\n",
    "    \n",
    "    def predict_proba(self, X, y=None):\n",
    "        # Check if the classifier has the predict_proba method\n",
    "        if hasattr(self.classifier, \"predict_proba\"):\n",
    "            return self.classifier.predict_proba(X)\n",
    "        else:\n",
    "            raise RuntimeError(f\"{self.classifier.__class__.__name__} does not have predict_proba method.\")\n",
    "    "
   ]
  },
  {
   "cell_type": "code",
   "execution_count": 369,
   "id": "fb98e395",
   "metadata": {},
   "outputs": [],
   "source": [
    "class Evaluator:\n",
    "    def __init__(self, random_state=100):\n",
    "        \"\"\"Initialzes model and metrics for tech tweet classification.\"\"\"\n",
    "        \n",
    "        # Models for tech tweet classification\n",
    "        self.models = {}\n",
    "        \n",
    "        # Metrics to be used for evaluation purposes\n",
    "        self.metrics = {'precision': precision_score,\n",
    "                        'recall': recall_score,\n",
    "                        'confusion_matrix': confusion_matrix,\n",
    "                       }\n",
    "        \n",
    "        # Model results after evaluation\n",
    "        self.results = {}\n",
    "        \n",
    "    def add_classifier(self, model_name, model):\n",
    "        \"\"\"Add a new classification model\"\"\"\n",
    "        self.models[model_name] = model\n",
    "        \n",
    "    def evaluate_classifier(self, model_name, y_true, y_pred):\n",
    "        \"\"\"Evaluate on X using the specified model.\"\"\"\n",
    "        \n",
    "        if model_name not in self.models:\n",
    "            raise ValueError(f'No model is found with the name: {model_name}')\n",
    "        \n",
    "        model_results = {}\n",
    "        \n",
    "        for metric_name, metric in self.metrics.items():\n",
    "            #print(f'Metric: {metric_name} Metric_function: {metric}')\n",
    "            model_results[metric_name] = metric(y_true, y_pred)\n",
    "\n",
    "        self.results[model_name] = model_results\n",
    "        \n",
    "    def get_model_params(self, model_name):\n",
    "        \"\"\"Get the model params for the specified model.\"\"\"\n",
    "\n",
    "        if model_name not in self.models:\n",
    "            raise ValueError(f'No model is found with the name: {model_name}')\n",
    "        else:\n",
    "            return self.models[model_name].get_params()\n",
    "\n",
    "    def evaluate_thresholds(self, model_name, X, y_true, thresholds):\n",
    "        \"\"\"Evaluate the model performance at different probability thresholds.\"\"\"\n",
    "\n",
    "        if model_name not in self.models:\n",
    "            raise ValueError(f'No model is found with the name: {model_name}')\n",
    "\n",
    "        if not hasattr(self.models[model_name], \"predict_proba\"):\n",
    "            raise ValueError(f'{model_name} does not support predict_proba method.')\n",
    "\n",
    "        probs = self.models[model_name].predict_proba(X)[:, 1]\n",
    "\n",
    "        results = []\n",
    "        for threshold in thresholds:\n",
    "            y_pred = (probs >= threshold).astype(int)\n",
    "            \n",
    "            results.append({\n",
    "                'threshold': threshold,\n",
    "                'precision': self.metrics['precision'](y_true, y_pred),\n",
    "                'recall': self.metrics['recall'](y_true, y_pred),\n",
    "                'confusion_matrix': self.metrics['confusion_matrix'](y_true, y_pred)\n",
    "            })\n",
    "\n",
    "        return pd.DataFrame(results)   "
   ]
  },
  {
   "cell_type": "code",
   "execution_count": 324,
   "id": "c3e61a79",
   "metadata": {},
   "outputs": [],
   "source": [
    "evl = Evaluator()"
   ]
  },
  {
   "cell_type": "code",
   "execution_count": 325,
   "id": "20db2c85",
   "metadata": {},
   "outputs": [],
   "source": [
    "# Define the pipeline\n",
    "pipeline = Pipeline([\n",
    "    ('preprocessor', TextPreprocessor(stop_words=stop_words)), # 1: Text Preprocessor\n",
    "    ('tfidf', TfidfVectorizer(ngram_range=(1,2), max_features=10000)), # 2: TFIDF Vectorizer\n",
    "    ('svd', TruncatedSVD(n_components=5000)), # 3: Apply SVD for dimensionality reduction\n",
    "#    ('base_classifier', BaseClassifierModel()), # 4: Classifier\n",
    "])"
   ]
  },
  {
   "cell_type": "code",
   "execution_count": 326,
   "id": "d51f5318",
   "metadata": {},
   "outputs": [],
   "source": [
    "X_train_transformed = pipeline.fit_transform(X_train)\n",
    "X_test_transformed = pipeline.transform(X_test)"
   ]
  },
  {
   "cell_type": "code",
   "execution_count": 370,
   "id": "b8364ee9",
   "metadata": {},
   "outputs": [],
   "source": [
    "# Logistic Regression\n",
    "lr = LogisticRegression(random_state=100)\n",
    "lr_model = BaseClassifierModel(classifier=lr)\n",
    "\n",
    "lr_model.fit(X_train_transformed, y_train)\n",
    "y_pred = lr_model.predict(X_test_transformed)\n",
    "\n",
    "# Evaluator\n",
    "evl.add_classifier('LR_base', lr_model)\n",
    "evl.evaluate_classifier('LR_base', y_test, y_pred)"
   ]
  },
  {
   "cell_type": "code",
   "execution_count": 371,
   "id": "66992733",
   "metadata": {},
   "outputs": [
    {
     "name": "stderr",
     "output_type": "stream",
     "text": [
      "C:\\Users\\subbu\\anaconda3\\lib\\site-packages\\sklearn\\metrics\\_classification.py:1344: UndefinedMetricWarning: Precision is ill-defined and being set to 0.0 due to no predicted samples. Use `zero_division` parameter to control this behavior.\n",
      "  _warn_prf(average, modifier, msg_start, len(result))\n"
     ]
    },
    {
     "data": {
      "text/html": [
       "<div>\n",
       "<style scoped>\n",
       "    .dataframe tbody tr th:only-of-type {\n",
       "        vertical-align: middle;\n",
       "    }\n",
       "\n",
       "    .dataframe tbody tr th {\n",
       "        vertical-align: top;\n",
       "    }\n",
       "\n",
       "    .dataframe thead th {\n",
       "        text-align: right;\n",
       "    }\n",
       "</style>\n",
       "<table border=\"1\" class=\"dataframe\">\n",
       "  <thead>\n",
       "    <tr style=\"text-align: right;\">\n",
       "      <th></th>\n",
       "      <th>threshold</th>\n",
       "      <th>precision</th>\n",
       "      <th>recall</th>\n",
       "      <th>confusion_matrix</th>\n",
       "    </tr>\n",
       "  </thead>\n",
       "  <tbody>\n",
       "    <tr>\n",
       "      <th>0</th>\n",
       "      <td>0.1</td>\n",
       "      <td>0.869524</td>\n",
       "      <td>1.000000</td>\n",
       "      <td>[[0, 137], [0, 913]]</td>\n",
       "    </tr>\n",
       "    <tr>\n",
       "      <th>1</th>\n",
       "      <td>0.2</td>\n",
       "      <td>0.870353</td>\n",
       "      <td>1.000000</td>\n",
       "      <td>[[1, 136], [0, 913]]</td>\n",
       "    </tr>\n",
       "    <tr>\n",
       "      <th>2</th>\n",
       "      <td>0.3</td>\n",
       "      <td>0.873442</td>\n",
       "      <td>0.997809</td>\n",
       "      <td>[[5, 132], [2, 911]]</td>\n",
       "    </tr>\n",
       "    <tr>\n",
       "      <th>3</th>\n",
       "      <td>0.4</td>\n",
       "      <td>0.879961</td>\n",
       "      <td>0.995619</td>\n",
       "      <td>[[13, 124], [4, 909]]</td>\n",
       "    </tr>\n",
       "    <tr>\n",
       "      <th>4</th>\n",
       "      <td>0.5</td>\n",
       "      <td>0.887365</td>\n",
       "      <td>0.992333</td>\n",
       "      <td>[[22, 115], [7, 906]]</td>\n",
       "    </tr>\n",
       "    <tr>\n",
       "      <th>5</th>\n",
       "      <td>0.6</td>\n",
       "      <td>0.902119</td>\n",
       "      <td>0.979189</td>\n",
       "      <td>[[40, 97], [19, 894]]</td>\n",
       "    </tr>\n",
       "    <tr>\n",
       "      <th>6</th>\n",
       "      <td>0.7</td>\n",
       "      <td>0.919118</td>\n",
       "      <td>0.958379</td>\n",
       "      <td>[[60, 77], [38, 875]]</td>\n",
       "    </tr>\n",
       "    <tr>\n",
       "      <th>7</th>\n",
       "      <td>0.8</td>\n",
       "      <td>0.945727</td>\n",
       "      <td>0.897043</td>\n",
       "      <td>[[90, 47], [94, 819]]</td>\n",
       "    </tr>\n",
       "    <tr>\n",
       "      <th>8</th>\n",
       "      <td>0.9</td>\n",
       "      <td>0.971039</td>\n",
       "      <td>0.624315</td>\n",
       "      <td>[[120, 17], [343, 570]]</td>\n",
       "    </tr>\n",
       "    <tr>\n",
       "      <th>9</th>\n",
       "      <td>1.0</td>\n",
       "      <td>0.000000</td>\n",
       "      <td>0.000000</td>\n",
       "      <td>[[137, 0], [913, 0]]</td>\n",
       "    </tr>\n",
       "  </tbody>\n",
       "</table>\n",
       "</div>"
      ],
      "text/plain": [
       "   threshold  precision    recall         confusion_matrix\n",
       "0        0.1   0.869524  1.000000     [[0, 137], [0, 913]]\n",
       "1        0.2   0.870353  1.000000     [[1, 136], [0, 913]]\n",
       "2        0.3   0.873442  0.997809     [[5, 132], [2, 911]]\n",
       "3        0.4   0.879961  0.995619    [[13, 124], [4, 909]]\n",
       "4        0.5   0.887365  0.992333    [[22, 115], [7, 906]]\n",
       "5        0.6   0.902119  0.979189    [[40, 97], [19, 894]]\n",
       "6        0.7   0.919118  0.958379    [[60, 77], [38, 875]]\n",
       "7        0.8   0.945727  0.897043    [[90, 47], [94, 819]]\n",
       "8        0.9   0.971039  0.624315  [[120, 17], [343, 570]]\n",
       "9        1.0   0.000000  0.000000     [[137, 0], [913, 0]]"
      ]
     },
     "execution_count": 371,
     "metadata": {},
     "output_type": "execute_result"
    }
   ],
   "source": [
    "thresholds = [0.1, 0.2, 0.3, 0.4, 0.5, 0.6, 0.7, 0.8, 0.9, 1.0]\n",
    "evl.evaluate_thresholds('LR_base', X_test_transformed, y_test, thresholds)"
   ]
  },
  {
   "cell_type": "code",
   "execution_count": 372,
   "id": "a9cb95f0",
   "metadata": {},
   "outputs": [],
   "source": [
    "threshold = 0.8\n",
    "probs = lr_model.predict_proba(X_test_transformed)[:, 1]\n",
    "y_pred = (probs >= threshold).astype(int)\n",
    "\n",
    "# Evaluator\n",
    "evl.add_classifier('LR_base_prob_thres', lr_model)\n",
    "evl.evaluate_classifier('LR_base_prob_thres', y_test, y_pred)"
   ]
  },
  {
   "cell_type": "code",
   "execution_count": 328,
   "id": "aa85bdeb",
   "metadata": {},
   "outputs": [],
   "source": [
    "# Random Forest\n",
    "rf = RandomForestClassifier(random_state=100)\n",
    "rf_model = BaseClassifierModel(classifier=rf)\n",
    "\n",
    "rf_model.fit(X_train_transformed, y_train)\n",
    "y_pred = rf_model.predict(X_test_transformed)\n",
    "\n",
    "# Evaluator\n",
    "evl.add_classifier('RF_base', rf_model)\n",
    "evl.evaluate_classifier('RF_base', y_test, y_pred)"
   ]
  },
  {
   "cell_type": "code",
   "execution_count": 329,
   "id": "15b30118",
   "metadata": {},
   "outputs": [],
   "source": [
    "# XGBoost Classifier\n",
    "xgb_clf = xgb.XGBClassifier(eval_metric='logloss', \n",
    "                            use_label_encoder=False,\n",
    "                            random_state=100)\n",
    "\n",
    "xgb_clf_model = BaseClassifierModel(classifier=xgb_clf)\n",
    "\n",
    "xgb_clf_model.fit(X_train_transformed, y_train)\n",
    "y_pred = xgb_clf_model.predict(X_test_transformed)\n",
    "\n",
    "# Evaluator\n",
    "evl.add_classifier('XGB_base', xgb_clf_model)\n",
    "evl.evaluate_classifier('XGB_base', y_test, y_pred)"
   ]
  },
  {
   "cell_type": "code",
   "execution_count": 375,
   "id": "22f40bcd",
   "metadata": {},
   "outputs": [],
   "source": [
    "# Logistic Regression\n",
    "lr_cw = LogisticRegression(random_state=100, \n",
    "                           class_weight='balanced')\n",
    "\n",
    "lr_model_cw = BaseClassifierModel(classifier=lr_cw)\n",
    "\n",
    "lr_model_cw.fit(X_train_transformed, y_train)\n",
    "y_pred = lr_model_cw.predict(X_test_transformed)\n",
    "\n",
    "# Evaluator\n",
    "evl.add_classifier('LR_class_weights', lr_model_cw)\n",
    "evl.evaluate_classifier('LR_class_weights', y_test, y_pred)"
   ]
  },
  {
   "cell_type": "code",
   "execution_count": 376,
   "id": "856db705",
   "metadata": {},
   "outputs": [
    {
     "name": "stderr",
     "output_type": "stream",
     "text": [
      "C:\\Users\\subbu\\anaconda3\\lib\\site-packages\\sklearn\\metrics\\_classification.py:1344: UndefinedMetricWarning: Precision is ill-defined and being set to 0.0 due to no predicted samples. Use `zero_division` parameter to control this behavior.\n",
      "  _warn_prf(average, modifier, msg_start, len(result))\n"
     ]
    },
    {
     "data": {
      "text/html": [
       "<div>\n",
       "<style scoped>\n",
       "    .dataframe tbody tr th:only-of-type {\n",
       "        vertical-align: middle;\n",
       "    }\n",
       "\n",
       "    .dataframe tbody tr th {\n",
       "        vertical-align: top;\n",
       "    }\n",
       "\n",
       "    .dataframe thead th {\n",
       "        text-align: right;\n",
       "    }\n",
       "</style>\n",
       "<table border=\"1\" class=\"dataframe\">\n",
       "  <thead>\n",
       "    <tr style=\"text-align: right;\">\n",
       "      <th></th>\n",
       "      <th>threshold</th>\n",
       "      <th>precision</th>\n",
       "      <th>recall</th>\n",
       "      <th>confusion_matrix</th>\n",
       "    </tr>\n",
       "  </thead>\n",
       "  <tbody>\n",
       "    <tr>\n",
       "      <th>0</th>\n",
       "      <td>0.1</td>\n",
       "      <td>0.879845</td>\n",
       "      <td>0.994524</td>\n",
       "      <td>[[13, 124], [5, 908]]</td>\n",
       "    </tr>\n",
       "    <tr>\n",
       "      <th>1</th>\n",
       "      <td>0.2</td>\n",
       "      <td>0.900302</td>\n",
       "      <td>0.979189</td>\n",
       "      <td>[[38, 99], [19, 894]]</td>\n",
       "    </tr>\n",
       "    <tr>\n",
       "      <th>2</th>\n",
       "      <td>0.3</td>\n",
       "      <td>0.920168</td>\n",
       "      <td>0.959474</td>\n",
       "      <td>[[61, 76], [37, 876]]</td>\n",
       "    </tr>\n",
       "    <tr>\n",
       "      <th>3</th>\n",
       "      <td>0.4</td>\n",
       "      <td>0.934831</td>\n",
       "      <td>0.911281</td>\n",
       "      <td>[[79, 58], [81, 832]]</td>\n",
       "    </tr>\n",
       "    <tr>\n",
       "      <th>4</th>\n",
       "      <td>0.5</td>\n",
       "      <td>0.952970</td>\n",
       "      <td>0.843373</td>\n",
       "      <td>[[99, 38], [143, 770]]</td>\n",
       "    </tr>\n",
       "    <tr>\n",
       "      <th>5</th>\n",
       "      <td>0.6</td>\n",
       "      <td>0.965812</td>\n",
       "      <td>0.742607</td>\n",
       "      <td>[[113, 24], [235, 678]]</td>\n",
       "    </tr>\n",
       "    <tr>\n",
       "      <th>6</th>\n",
       "      <td>0.7</td>\n",
       "      <td>0.970228</td>\n",
       "      <td>0.606791</td>\n",
       "      <td>[[120, 17], [359, 554]]</td>\n",
       "    </tr>\n",
       "    <tr>\n",
       "      <th>7</th>\n",
       "      <td>0.8</td>\n",
       "      <td>0.970674</td>\n",
       "      <td>0.362541</td>\n",
       "      <td>[[127, 10], [582, 331]]</td>\n",
       "    </tr>\n",
       "    <tr>\n",
       "      <th>8</th>\n",
       "      <td>0.9</td>\n",
       "      <td>0.979381</td>\n",
       "      <td>0.104053</td>\n",
       "      <td>[[135, 2], [818, 95]]</td>\n",
       "    </tr>\n",
       "    <tr>\n",
       "      <th>9</th>\n",
       "      <td>1.0</td>\n",
       "      <td>0.000000</td>\n",
       "      <td>0.000000</td>\n",
       "      <td>[[137, 0], [913, 0]]</td>\n",
       "    </tr>\n",
       "  </tbody>\n",
       "</table>\n",
       "</div>"
      ],
      "text/plain": [
       "   threshold  precision    recall         confusion_matrix\n",
       "0        0.1   0.879845  0.994524    [[13, 124], [5, 908]]\n",
       "1        0.2   0.900302  0.979189    [[38, 99], [19, 894]]\n",
       "2        0.3   0.920168  0.959474    [[61, 76], [37, 876]]\n",
       "3        0.4   0.934831  0.911281    [[79, 58], [81, 832]]\n",
       "4        0.5   0.952970  0.843373   [[99, 38], [143, 770]]\n",
       "5        0.6   0.965812  0.742607  [[113, 24], [235, 678]]\n",
       "6        0.7   0.970228  0.606791  [[120, 17], [359, 554]]\n",
       "7        0.8   0.970674  0.362541  [[127, 10], [582, 331]]\n",
       "8        0.9   0.979381  0.104053    [[135, 2], [818, 95]]\n",
       "9        1.0   0.000000  0.000000     [[137, 0], [913, 0]]"
      ]
     },
     "execution_count": 376,
     "metadata": {},
     "output_type": "execute_result"
    }
   ],
   "source": [
    "thresholds = [0.1, 0.2, 0.3, 0.4, 0.5, 0.6, 0.7, 0.8, 0.9, 1.0]\n",
    "evl.evaluate_thresholds('LR_class_weights', X_test_transformed, y_test, thresholds)"
   ]
  },
  {
   "cell_type": "code",
   "execution_count": null,
   "id": "c6c090a1",
   "metadata": {},
   "outputs": [
    {
     "name": "stderr",
     "output_type": "stream",
     "text": [
      "C:\\Users\\subbu\\anaconda3\\lib\\site-packages\\sklearn\\linear_model\\_sag.py:350: ConvergenceWarning: The max_iter was reached which means the coef_ did not converge\n",
      "  warnings.warn(\n",
      "C:\\Users\\subbu\\anaconda3\\lib\\site-packages\\sklearn\\linear_model\\_sag.py:350: ConvergenceWarning: The max_iter was reached which means the coef_ did not converge\n",
      "  warnings.warn(\n",
      "C:\\Users\\subbu\\anaconda3\\lib\\site-packages\\sklearn\\linear_model\\_sag.py:350: ConvergenceWarning: The max_iter was reached which means the coef_ did not converge\n",
      "  warnings.warn(\n",
      "C:\\Users\\subbu\\anaconda3\\lib\\site-packages\\sklearn\\linear_model\\_sag.py:350: ConvergenceWarning: The max_iter was reached which means the coef_ did not converge\n",
      "  warnings.warn(\n",
      "C:\\Users\\subbu\\anaconda3\\lib\\site-packages\\sklearn\\linear_model\\_sag.py:350: ConvergenceWarning: The max_iter was reached which means the coef_ did not converge\n",
      "  warnings.warn(\n",
      "C:\\Users\\subbu\\anaconda3\\lib\\site-packages\\sklearn\\linear_model\\_sag.py:350: ConvergenceWarning: The max_iter was reached which means the coef_ did not converge\n",
      "  warnings.warn(\n",
      "C:\\Users\\subbu\\anaconda3\\lib\\site-packages\\sklearn\\linear_model\\_sag.py:350: ConvergenceWarning: The max_iter was reached which means the coef_ did not converge\n",
      "  warnings.warn(\n",
      "C:\\Users\\subbu\\anaconda3\\lib\\site-packages\\sklearn\\linear_model\\_sag.py:350: ConvergenceWarning: The max_iter was reached which means the coef_ did not converge\n",
      "  warnings.warn(\n",
      "C:\\Users\\subbu\\anaconda3\\lib\\site-packages\\sklearn\\linear_model\\_sag.py:350: ConvergenceWarning: The max_iter was reached which means the coef_ did not converge\n",
      "  warnings.warn(\n",
      "C:\\Users\\subbu\\anaconda3\\lib\\site-packages\\sklearn\\linear_model\\_sag.py:350: ConvergenceWarning: The max_iter was reached which means the coef_ did not converge\n",
      "  warnings.warn(\n"
     ]
    }
   ],
   "source": [
    "param_grid = {\n",
    "    'C': [0.001, 0.01, 0.1, 1, 10, 100, 1000],\n",
    "    'penalty': ['l1', 'l2'],\n",
    "    'max_iter': [100, 200, 300, 400],\n",
    "    'solver': ['newton-cg', 'lbfgs', 'liblinear', 'sag', 'saga'],\n",
    "}\n",
    "\n",
    "# Make a custom scorer with zero_division parameter\n",
    "scorer = make_scorer(precision_score, zero_division=1)\n",
    "\n",
    "grid_search = GridSearchCV(estimator=lr_cw, \n",
    "                           param_grid=param_grid, \n",
    "                           cv=5,\n",
    "                           scoring=scorer, \n",
    "                           refit=False)\n",
    "\n",
    "grid_search.fit(X_train_transformed, y_train)"
   ]
  },
  {
   "cell_type": "code",
   "execution_count": 373,
   "id": "a4405b2a",
   "metadata": {},
   "outputs": [
    {
     "name": "stdout",
     "output_type": "stream",
     "text": [
      "Model name: LR_base\n",
      "*******************************\n",
      "precision: 0.8873653281096964\n",
      "recall: 0.9923329682365827\n",
      "                 Predicted Non-Tech  Predicted Tech\n",
      "Actual Non-Tech                  22             115\n",
      "Actual Tech                       7             906\n",
      "\n",
      "\n",
      "Model name: RF_base\n",
      "*******************************\n",
      "precision: 0.8740384615384615\n",
      "recall: 0.9956188389923329\n",
      "                 Predicted Non-Tech  Predicted Tech\n",
      "Actual Non-Tech                   6             131\n",
      "Actual Tech                       4             909\n",
      "\n",
      "\n",
      "Model name: XGB_base\n",
      "*******************************\n",
      "precision: 0.8990918264379415\n",
      "recall: 0.9759036144578314\n",
      "                 Predicted Non-Tech  Predicted Tech\n",
      "Actual Non-Tech                  37             100\n",
      "Actual Tech                      22             891\n",
      "\n",
      "\n",
      "Model name: LR_base_balanced_data\n",
      "*******************************\n",
      "precision: 0.8856655290102389\n",
      "recall: 0.8370967741935483\n",
      "                 Predicted Non-Tech  Predicted Tech\n",
      "Actual Non-Tech                1589             201\n",
      "Actual Tech                     303            1557\n",
      "\n",
      "\n",
      "Model name: RF_base_balanced_data\n",
      "*******************************\n",
      "precision: 0.9016611295681063\n",
      "recall: 0.7295698924731183\n",
      "                 Predicted Non-Tech  Predicted Tech\n",
      "Actual Non-Tech                1642             148\n",
      "Actual Tech                     503            1357\n",
      "\n",
      "\n",
      "Model name: XGB_base_balanced_data\n",
      "*******************************\n",
      "precision: 0.8797878609310548\n",
      "recall: 0.8026881720430108\n",
      "                 Predicted Non-Tech  Predicted Tech\n",
      "Actual Non-Tech                1586             204\n",
      "Actual Tech                     367            1493\n",
      "\n",
      "\n",
      "Model name: LR_class_weights\n",
      "*******************************\n",
      "precision: 0.9529702970297029\n",
      "recall: 0.8433734939759037\n",
      "                 Predicted Non-Tech  Predicted Tech\n",
      "Actual Non-Tech                  99              38\n",
      "Actual Tech                     143             770\n",
      "\n",
      "\n",
      "Model name: LR_base_prob_thres\n",
      "*******************************\n",
      "precision: 0.9457274826789839\n",
      "recall: 0.8970427163198248\n",
      "                 Predicted Non-Tech  Predicted Tech\n",
      "Actual Non-Tech                  90              47\n",
      "Actual Tech                      94             819\n",
      "\n",
      "\n"
     ]
    }
   ],
   "source": [
    "for model_name, results in evl.results.items():\n",
    "    print(f'Model name: {model_name}')\n",
    "    print('*******************************')    \n",
    "    for metric_name, metric_val  in results.items():\n",
    "        if metric_name == 'confusion_matrix':\n",
    "            # Create a pandas DataFrame from the confusion matrix\n",
    "            cm_df = pd.DataFrame(metric_val, index=['Actual Non-Tech', 'Actual Tech'], \n",
    "                                 columns=['Predicted Non-Tech', 'Predicted Tech'])\n",
    "\n",
    "            print(cm_df)\n",
    "            continue\n",
    "\n",
    "        print(f'{metric_name}: {metric_val}')\n",
    "    print()\n",
    "    print()\n"
   ]
  },
  {
   "cell_type": "markdown",
   "id": "f3fdc68e",
   "metadata": {},
   "source": [
    "### Modelling with Balanced Data"
   ]
  },
  {
   "cell_type": "code",
   "execution_count": 331,
   "id": "bf4d1288",
   "metadata": {},
   "outputs": [
    {
     "data": {
      "text/plain": [
       "0    1.0\n",
       "Name: Tech, dtype: float64"
      ]
     },
     "execution_count": 331,
     "metadata": {},
     "output_type": "execute_result"
    }
   ],
   "source": [
    "twitter_nontech['Tech'].value_counts(normalize=True)"
   ]
  },
  {
   "cell_type": "code",
   "execution_count": 332,
   "id": "6a937893",
   "metadata": {},
   "outputs": [
    {
     "data": {
      "text/html": [
       "<div>\n",
       "<style scoped>\n",
       "    .dataframe tbody tr th:only-of-type {\n",
       "        vertical-align: middle;\n",
       "    }\n",
       "\n",
       "    .dataframe tbody tr th {\n",
       "        vertical-align: top;\n",
       "    }\n",
       "\n",
       "    .dataframe thead th {\n",
       "        text-align: right;\n",
       "    }\n",
       "</style>\n",
       "<table border=\"1\" class=\"dataframe\">\n",
       "  <thead>\n",
       "    <tr style=\"text-align: right;\">\n",
       "      <th></th>\n",
       "      <th>text</th>\n",
       "      <th>Tech</th>\n",
       "    </tr>\n",
       "  </thead>\n",
       "  <tbody>\n",
       "    <tr>\n",
       "      <th>721</th>\n",
       "      <td>Which one would you choose? 👀 https://t.co/U0s...</td>\n",
       "      <td>0</td>\n",
       "    </tr>\n",
       "    <tr>\n",
       "      <th>1374</th>\n",
       "      <td>How it’s made. 😊 https://t.co/3XjOw4gIkg</td>\n",
       "      <td>0</td>\n",
       "    </tr>\n",
       "    <tr>\n",
       "      <th>2206</th>\n",
       "      <td>𝐶𝑙𝑎𝑢𝑑𝑒 𝑀𝑜𝑛𝑒𝑡 https://t.co/WdavWJcSyw</td>\n",
       "      <td>0</td>\n",
       "    </tr>\n",
       "    <tr>\n",
       "      <th>2263</th>\n",
       "      <td>Baby Alpacas are so under appreciated. https:/...</td>\n",
       "      <td>0</td>\n",
       "    </tr>\n",
       "    <tr>\n",
       "      <th>2660</th>\n",
       "      <td>For some people the idea of compassion entails...</td>\n",
       "      <td>0</td>\n",
       "    </tr>\n",
       "  </tbody>\n",
       "</table>\n",
       "</div>"
      ],
      "text/plain": [
       "                                                   text  Tech\n",
       "721   Which one would you choose? 👀 https://t.co/U0s...     0\n",
       "1374           How it’s made. 😊 https://t.co/3XjOw4gIkg     0\n",
       "2206               𝐶𝑙𝑎𝑢𝑑𝑒 𝑀𝑜𝑛𝑒𝑡 https://t.co/WdavWJcSyw     0\n",
       "2263  Baby Alpacas are so under appreciated. https:/...     0\n",
       "2660  For some people the idea of compassion entails...     0"
      ]
     },
     "execution_count": 332,
     "metadata": {},
     "output_type": "execute_result"
    }
   ],
   "source": [
    "twitter_nontech.head()"
   ]
  },
  {
   "cell_type": "code",
   "execution_count": 333,
   "id": "59ea697b",
   "metadata": {},
   "outputs": [],
   "source": [
    "# Calculate the number of samples required to make the class distribution balanced\n",
    "num_samples = twitter_tech['Tech'].value_counts()[1] - twitter_tech['Tech'].value_counts()[0]\n",
    "\n",
    "# Take random samples to make the class distribution balanced\n",
    "twitter_nontech_sample = twitter_nontech.sample(num_samples)"
   ]
  },
  {
   "cell_type": "code",
   "execution_count": 334,
   "id": "eb77cbf9",
   "metadata": {},
   "outputs": [
    {
     "data": {
      "text/plain": [
       "(7754, 2)"
      ]
     },
     "execution_count": 334,
     "metadata": {},
     "output_type": "execute_result"
    }
   ],
   "source": [
    "twitter_nontech_sample.shape"
   ]
  },
  {
   "cell_type": "code",
   "execution_count": 335,
   "id": "fa474f41",
   "metadata": {},
   "outputs": [
    {
     "data": {
      "text/html": [
       "<div>\n",
       "<style scoped>\n",
       "    .dataframe tbody tr th:only-of-type {\n",
       "        vertical-align: middle;\n",
       "    }\n",
       "\n",
       "    .dataframe tbody tr th {\n",
       "        vertical-align: top;\n",
       "    }\n",
       "\n",
       "    .dataframe thead th {\n",
       "        text-align: right;\n",
       "    }\n",
       "</style>\n",
       "<table border=\"1\" class=\"dataframe\">\n",
       "  <thead>\n",
       "    <tr style=\"text-align: right;\">\n",
       "      <th></th>\n",
       "      <th>text</th>\n",
       "      <th>Tech</th>\n",
       "    </tr>\n",
       "  </thead>\n",
       "  <tbody>\n",
       "    <tr>\n",
       "      <th>0</th>\n",
       "      <td>Check out this transforming boat. (Via @Chedda...</td>\n",
       "      <td>1</td>\n",
       "    </tr>\n",
       "    <tr>\n",
       "      <th>1</th>\n",
       "      <td>10 things #3dprinting can build today &gt;&gt;&gt; @gen...</td>\n",
       "      <td>1</td>\n",
       "    </tr>\n",
       "    <tr>\n",
       "      <th>2</th>\n",
       "      <td>These gloves translate sign language. https://...</td>\n",
       "      <td>1</td>\n",
       "    </tr>\n",
       "    <tr>\n",
       "      <th>3</th>\n",
       "      <td>These pools hide in plain sight. (Via @Cheddar...</td>\n",
       "      <td>1</td>\n",
       "    </tr>\n",
       "    <tr>\n",
       "      <th>4</th>\n",
       "      <td>The Future of Work, #Augmentation is Creating ...</td>\n",
       "      <td>1</td>\n",
       "    </tr>\n",
       "  </tbody>\n",
       "</table>\n",
       "</div>"
      ],
      "text/plain": [
       "                                                text  Tech\n",
       "0  Check out this transforming boat. (Via @Chedda...     1\n",
       "1  10 things #3dprinting can build today >>> @gen...     1\n",
       "2  These gloves translate sign language. https://...     1\n",
       "3  These pools hide in plain sight. (Via @Cheddar...     1\n",
       "4  The Future of Work, #Augmentation is Creating ...     1"
      ]
     },
     "execution_count": 335,
     "metadata": {},
     "output_type": "execute_result"
    }
   ],
   "source": [
    "balanced_data = pd.concat([twitter_tech, twitter_nontech_sample], ignore_index=True)\n",
    "balanced_data.head()"
   ]
  },
  {
   "cell_type": "code",
   "execution_count": 336,
   "id": "2d0cfcf8",
   "metadata": {
    "scrolled": true
   },
   "outputs": [
    {
     "data": {
      "text/plain": [
       "1    9125\n",
       "0    9125\n",
       "Name: Tech, dtype: int64"
      ]
     },
     "execution_count": 336,
     "metadata": {},
     "output_type": "execute_result"
    }
   ],
   "source": [
    "balanced_data['Tech'].value_counts()"
   ]
  },
  {
   "cell_type": "code",
   "execution_count": 337,
   "id": "6bed9d17",
   "metadata": {},
   "outputs": [
    {
     "data": {
      "text/plain": [
       "(18250, 2)"
      ]
     },
     "execution_count": 337,
     "metadata": {},
     "output_type": "execute_result"
    }
   ],
   "source": [
    "balanced_data.shape"
   ]
  },
  {
   "cell_type": "code",
   "execution_count": 338,
   "id": "74fcf2e0",
   "metadata": {},
   "outputs": [],
   "source": [
    "X_bal = balanced_data['text']\n",
    "y_bal = balanced_data['Tech']"
   ]
  },
  {
   "cell_type": "code",
   "execution_count": 339,
   "id": "c7c9c3bf",
   "metadata": {},
   "outputs": [
    {
     "data": {
      "text/plain": [
       "(18250,)"
      ]
     },
     "execution_count": 339,
     "metadata": {},
     "output_type": "execute_result"
    }
   ],
   "source": [
    "X_bal.shape"
   ]
  },
  {
   "cell_type": "code",
   "execution_count": 340,
   "id": "e0543014",
   "metadata": {},
   "outputs": [
    {
     "data": {
      "text/plain": [
       "(18250,)"
      ]
     },
     "execution_count": 340,
     "metadata": {},
     "output_type": "execute_result"
    }
   ],
   "source": [
    "y_bal.shape"
   ]
  },
  {
   "cell_type": "code",
   "execution_count": 341,
   "id": "d03bd143",
   "metadata": {},
   "outputs": [],
   "source": [
    "\n",
    "# Train test split\n",
    "# Stratified sampling is set here to ensure the same class distribution of the variable: Tech\n",
    "# in train and test datasets even after the split.\n",
    "X_train_bal, X_test_bal, y_train_bal, y_test_bal = train_test_split(X_bal,\n",
    "                                                                    y_bal,\n",
    "                                                                    test_size=0.2,\n",
    "                                                                    random_state=100)"
   ]
  },
  {
   "cell_type": "markdown",
   "id": "21292b57",
   "metadata": {},
   "source": [
    "### Finding the number of components for TruncatedSVD"
   ]
  },
  {
   "cell_type": "code",
   "execution_count": 342,
   "id": "f302bbcc",
   "metadata": {},
   "outputs": [],
   "source": [
    "# Text processor\n",
    "txt_processor = TextPreprocessor(stop_words=stop_words)\n",
    "X_train_bal_processed = txt_processor.fit_transform(X_train_bal)\n",
    "X_test_bal_processed = txt_processor.transform(X_test_bal)"
   ]
  },
  {
   "cell_type": "code",
   "execution_count": 343,
   "id": "bfd9c479",
   "metadata": {},
   "outputs": [],
   "source": [
    "# TFIDF Vectorizer\n",
    "# Considering unigram and bigram features\n",
    "tfid = TfidfVectorizer(ngram_range=(1,2), max_features=10000)\n",
    "X_train_bal_vectorized = tfid.fit_transform(X_train_bal_processed)\n",
    "X_test_bal_vectorized = tfid.transform(X_test_bal_processed)"
   ]
  },
  {
   "cell_type": "code",
   "execution_count": 344,
   "id": "7d854ea7",
   "metadata": {},
   "outputs": [],
   "source": [
    "# Dimensionality reduction using SVD\n",
    "\n",
    "# Totally there are 10000 features. \n",
    "# We select the following number of features for checking the explained variance.\n",
    "components = [1000, 2000, 3000, 4000, 5000]\n",
    "exp_var = []\n",
    "\n",
    "# Find the optimal number of components for dimensionality reduction.\n",
    "for comp in components:\n",
    "    svd = TruncatedSVD(n_components=comp)\n",
    "    svd.fit(X_train_bal_vectorized)\n",
    "    var_exp = svd.explained_variance_ratio_.sum()\n",
    "    exp_var.append(var_exp)"
   ]
  },
  {
   "cell_type": "code",
   "execution_count": 345,
   "id": "1498d3e2",
   "metadata": {},
   "outputs": [
    {
     "data": {
      "text/plain": [
       "[0.5483398548488294,\n",
       " 0.7449927179379999,\n",
       " 0.8573870097120877,\n",
       " 0.9254553088455826,\n",
       " 0.9658634804050445]"
      ]
     },
     "execution_count": 345,
     "metadata": {},
     "output_type": "execute_result"
    }
   ],
   "source": [
    "exp_var"
   ]
  },
  {
   "cell_type": "code",
   "execution_count": 346,
   "id": "d38fe706",
   "metadata": {},
   "outputs": [
    {
     "data": {
      "image/png": "[encoded data removed]",
      "text/plain": [
       "<Figure size 800x800 with 1 Axes>"
      ]
     },
     "metadata": {},
     "output_type": "display_data"
    }
   ],
   "source": [
    "plt_explained_variance(components, exp_var)"
   ]
  },
  {
   "cell_type": "markdown",
   "id": "46c1e6e2",
   "metadata": {},
   "source": [
    "Selecting the number of components as 5000 as it explains 99% variance."
   ]
  },
  {
   "cell_type": "code",
   "execution_count": 348,
   "id": "e459b134",
   "metadata": {},
   "outputs": [],
   "source": [
    "X_train_bal_transformed = pipeline.fit_transform(X_train_bal)\n",
    "X_test_bal_transformed = pipeline.transform(X_test_bal)"
   ]
  },
  {
   "cell_type": "code",
   "execution_count": 351,
   "id": "08bf2038",
   "metadata": {},
   "outputs": [],
   "source": [
    "# Logistic Regression\n",
    "lr_model_bal = BaseClassifierModel(classifier=lr)\n",
    "\n",
    "lr_model_bal.fit(X_train_bal_transformed, y_train_bal)\n",
    "y_pred_bal = lr_model_bal.predict(X_test_bal_transformed)\n",
    "\n",
    "# Evaluator\n",
    "evl.add_classifier('LR_base_balanced_data', lr_model_bal)\n",
    "evl.evaluate_classifier('LR_base_balanced_data', y_test_bal, y_pred_bal)"
   ]
  },
  {
   "cell_type": "code",
   "execution_count": 352,
   "id": "968ad329",
   "metadata": {},
   "outputs": [],
   "source": [
    "# Random Forest\n",
    "rf_model_bal = BaseClassifierModel(classifier=rf)\n",
    "\n",
    "rf_model_bal.fit(X_train_bal_transformed, y_train_bal)\n",
    "y_pred_bal = rf_model_bal.predict(X_test_bal_transformed)\n",
    "\n",
    "# Evaluator\n",
    "evl.add_classifier('RF_base_balanced_data', rf_model_bal)\n",
    "evl.evaluate_classifier('RF_base_balanced_data', y_test_bal, y_pred_bal)"
   ]
  },
  {
   "cell_type": "code",
   "execution_count": 353,
   "id": "4be73786",
   "metadata": {},
   "outputs": [],
   "source": [
    "# XGBoost Classifier\n",
    "xgb_clf_model_bal = BaseClassifierModel(classifier=xgb_clf)\n",
    "\n",
    "xgb_clf_model_bal.fit(X_train_bal_transformed, y_train_bal)\n",
    "y_pred_bal = xgb_clf_model_bal.predict(X_test_bal_transformed)\n",
    "\n",
    "# Evaluator\n",
    "evl.add_classifier('XGB_base_balanced_data', xgb_clf_model_bal)\n",
    "evl.evaluate_classifier('XGB_base_balanced_data', y_test_bal, y_pred_bal)"
   ]
  },
  {
   "cell_type": "code",
   "execution_count": 354,
   "id": "24a3a48b",
   "metadata": {},
   "outputs": [
    {
     "name": "stdout",
     "output_type": "stream",
     "text": [
      "Model name: LR_base\n",
      "*******************************\n",
      "precision: 0.8873653281096964\n",
      "recall: 0.9923329682365827\n",
      "                 Predicted Non-Tech  Predicted Tech\n",
      "Actual Non-Tech                  22             115\n",
      "Actual Tech                       7             906\n",
      "\n",
      "\n",
      "Model name: RF_base\n",
      "*******************************\n",
      "precision: 0.8740384615384615\n",
      "recall: 0.9956188389923329\n",
      "                 Predicted Non-Tech  Predicted Tech\n",
      "Actual Non-Tech                   6             131\n",
      "Actual Tech                       4             909\n",
      "\n",
      "\n",
      "Model name: XGB_base\n",
      "*******************************\n",
      "precision: 0.8990918264379415\n",
      "recall: 0.9759036144578314\n",
      "                 Predicted Non-Tech  Predicted Tech\n",
      "Actual Non-Tech                  37             100\n",
      "Actual Tech                      22             891\n",
      "\n",
      "\n",
      "Model name: LR_base_balanced_data\n",
      "*******************************\n",
      "precision: 0.8856655290102389\n",
      "recall: 0.8370967741935483\n",
      "                 Predicted Non-Tech  Predicted Tech\n",
      "Actual Non-Tech                1589             201\n",
      "Actual Tech                     303            1557\n",
      "\n",
      "\n",
      "Model name: RF_base_balanced_data\n",
      "*******************************\n",
      "precision: 0.9016611295681063\n",
      "recall: 0.7295698924731183\n",
      "                 Predicted Non-Tech  Predicted Tech\n",
      "Actual Non-Tech                1642             148\n",
      "Actual Tech                     503            1357\n",
      "\n",
      "\n",
      "Model name: XGB_base_balanced_data\n",
      "*******************************\n",
      "precision: 0.8797878609310548\n",
      "recall: 0.8026881720430108\n",
      "                 Predicted Non-Tech  Predicted Tech\n",
      "Actual Non-Tech                1586             204\n",
      "Actual Tech                     367            1493\n",
      "\n",
      "\n"
     ]
    }
   ],
   "source": [
    "for model_name, results in evl.results.items():\n",
    "    print(f'Model name: {model_name}')\n",
    "    print('*******************************')    \n",
    "    for metric_name, metric_val  in results.items():\n",
    "        if metric_name == 'confusion_matrix':\n",
    "            # Create a pandas DataFrame from the confusion matrix\n",
    "            cm_df = pd.DataFrame(metric_val, index=['Actual Non-Tech', 'Actual Tech'], \n",
    "                                 columns=['Predicted Non-Tech', 'Predicted Tech'])\n",
    "\n",
    "            print(cm_df)\n",
    "            continue\n",
    "\n",
    "        print(f'{metric_name}: {metric_val}')\n",
    "    print()\n",
    "    print()"
   ]
  },
  {
   "cell_type": "code",
   "execution_count": 383,
   "id": "998e3fc3",
   "metadata": {},
   "outputs": [
    {
     "data": {
      "text/html": [
       "<div>\n",
       "<style scoped>\n",
       "    .dataframe tbody tr th:only-of-type {\n",
       "        vertical-align: middle;\n",
       "    }\n",
       "\n",
       "    .dataframe tbody tr th {\n",
       "        vertical-align: top;\n",
       "    }\n",
       "\n",
       "    .dataframe thead th {\n",
       "        text-align: right;\n",
       "    }\n",
       "</style>\n",
       "<table border=\"1\" class=\"dataframe\">\n",
       "  <thead>\n",
       "    <tr style=\"text-align: right;\">\n",
       "      <th></th>\n",
       "      <th>precision</th>\n",
       "      <th>recall</th>\n",
       "      <th>confusion_matrix</th>\n",
       "    </tr>\n",
       "  </thead>\n",
       "  <tbody>\n",
       "    <tr>\n",
       "      <th>LR_base</th>\n",
       "      <td>0.887365</td>\n",
       "      <td>0.992333</td>\n",
       "      <td>[[22, 115], [7, 906]]</td>\n",
       "    </tr>\n",
       "    <tr>\n",
       "      <th>RF_base</th>\n",
       "      <td>0.874038</td>\n",
       "      <td>0.995619</td>\n",
       "      <td>[[6, 131], [4, 909]]</td>\n",
       "    </tr>\n",
       "    <tr>\n",
       "      <th>XGB_base</th>\n",
       "      <td>0.899092</td>\n",
       "      <td>0.975904</td>\n",
       "      <td>[[37, 100], [22, 891]]</td>\n",
       "    </tr>\n",
       "    <tr>\n",
       "      <th>LR_base_balanced_data</th>\n",
       "      <td>0.885666</td>\n",
       "      <td>0.837097</td>\n",
       "      <td>[[1589, 201], [303, 1557]]</td>\n",
       "    </tr>\n",
       "    <tr>\n",
       "      <th>RF_base_balanced_data</th>\n",
       "      <td>0.901661</td>\n",
       "      <td>0.72957</td>\n",
       "      <td>[[1642, 148], [503, 1357]]</td>\n",
       "    </tr>\n",
       "    <tr>\n",
       "      <th>XGB_base_balanced_data</th>\n",
       "      <td>0.879788</td>\n",
       "      <td>0.802688</td>\n",
       "      <td>[[1586, 204], [367, 1493]]</td>\n",
       "    </tr>\n",
       "    <tr>\n",
       "      <th>LR_class_weights</th>\n",
       "      <td>0.95297</td>\n",
       "      <td>0.843373</td>\n",
       "      <td>[[99, 38], [143, 770]]</td>\n",
       "    </tr>\n",
       "    <tr>\n",
       "      <th>LR_base_prob_thres</th>\n",
       "      <td>0.945727</td>\n",
       "      <td>0.897043</td>\n",
       "      <td>[[90, 47], [94, 819]]</td>\n",
       "    </tr>\n",
       "  </tbody>\n",
       "</table>\n",
       "</div>"
      ],
      "text/plain": [
       "                       precision    recall            confusion_matrix\n",
       "LR_base                 0.887365  0.992333       [[22, 115], [7, 906]]\n",
       "RF_base                 0.874038  0.995619        [[6, 131], [4, 909]]\n",
       "XGB_base                0.899092  0.975904      [[37, 100], [22, 891]]\n",
       "LR_base_balanced_data   0.885666  0.837097  [[1589, 201], [303, 1557]]\n",
       "RF_base_balanced_data   0.901661   0.72957  [[1642, 148], [503, 1357]]\n",
       "XGB_base_balanced_data  0.879788  0.802688  [[1586, 204], [367, 1493]]\n",
       "LR_class_weights         0.95297  0.843373      [[99, 38], [143, 770]]\n",
       "LR_base_prob_thres      0.945727  0.897043       [[90, 47], [94, 819]]"
      ]
     },
     "execution_count": 383,
     "metadata": {},
     "output_type": "execute_result"
    }
   ],
   "source": [
    "results_df = pd.DataFrame(evl.results).T\n",
    "results_df"
   ]
  },
  {
   "cell_type": "code",
   "execution_count": 384,
   "id": "60f0bdd0",
   "metadata": {},
   "outputs": [],
   "source": [
    "results_df['TN'] = results_df['confusion_matrix'].apply(lambda x: x[0][0])\n",
    "results_df['FP'] = results_df['confusion_matrix'].apply(lambda x: x[0][1])\n",
    "results_df['FN'] = results_df['confusion_matrix'].apply(lambda x: x[1][0])\n",
    "results_df['TP'] = results_df['confusion_matrix'].apply(lambda x: x[1][1])"
   ]
  },
  {
   "cell_type": "code",
   "execution_count": 385,
   "id": "2a85be52",
   "metadata": {},
   "outputs": [
    {
     "data": {
      "text/html": [
       "<div>\n",
       "<style scoped>\n",
       "    .dataframe tbody tr th:only-of-type {\n",
       "        vertical-align: middle;\n",
       "    }\n",
       "\n",
       "    .dataframe tbody tr th {\n",
       "        vertical-align: top;\n",
       "    }\n",
       "\n",
       "    .dataframe thead th {\n",
       "        text-align: right;\n",
       "    }\n",
       "</style>\n",
       "<table border=\"1\" class=\"dataframe\">\n",
       "  <thead>\n",
       "    <tr style=\"text-align: right;\">\n",
       "      <th></th>\n",
       "      <th>precision</th>\n",
       "      <th>recall</th>\n",
       "      <th>confusion_matrix</th>\n",
       "      <th>TN</th>\n",
       "      <th>FP</th>\n",
       "      <th>FN</th>\n",
       "      <th>TP</th>\n",
       "    </tr>\n",
       "  </thead>\n",
       "  <tbody>\n",
       "    <tr>\n",
       "      <th>LR_base</th>\n",
       "      <td>0.887365</td>\n",
       "      <td>0.992333</td>\n",
       "      <td>[[22, 115], [7, 906]]</td>\n",
       "      <td>22</td>\n",
       "      <td>115</td>\n",
       "      <td>7</td>\n",
       "      <td>906</td>\n",
       "    </tr>\n",
       "    <tr>\n",
       "      <th>RF_base</th>\n",
       "      <td>0.874038</td>\n",
       "      <td>0.995619</td>\n",
       "      <td>[[6, 131], [4, 909]]</td>\n",
       "      <td>6</td>\n",
       "      <td>131</td>\n",
       "      <td>4</td>\n",
       "      <td>909</td>\n",
       "    </tr>\n",
       "    <tr>\n",
       "      <th>XGB_base</th>\n",
       "      <td>0.899092</td>\n",
       "      <td>0.975904</td>\n",
       "      <td>[[37, 100], [22, 891]]</td>\n",
       "      <td>37</td>\n",
       "      <td>100</td>\n",
       "      <td>22</td>\n",
       "      <td>891</td>\n",
       "    </tr>\n",
       "    <tr>\n",
       "      <th>LR_base_balanced_data</th>\n",
       "      <td>0.885666</td>\n",
       "      <td>0.837097</td>\n",
       "      <td>[[1589, 201], [303, 1557]]</td>\n",
       "      <td>1589</td>\n",
       "      <td>201</td>\n",
       "      <td>303</td>\n",
       "      <td>1557</td>\n",
       "    </tr>\n",
       "    <tr>\n",
       "      <th>RF_base_balanced_data</th>\n",
       "      <td>0.901661</td>\n",
       "      <td>0.72957</td>\n",
       "      <td>[[1642, 148], [503, 1357]]</td>\n",
       "      <td>1642</td>\n",
       "      <td>148</td>\n",
       "      <td>503</td>\n",
       "      <td>1357</td>\n",
       "    </tr>\n",
       "    <tr>\n",
       "      <th>XGB_base_balanced_data</th>\n",
       "      <td>0.879788</td>\n",
       "      <td>0.802688</td>\n",
       "      <td>[[1586, 204], [367, 1493]]</td>\n",
       "      <td>1586</td>\n",
       "      <td>204</td>\n",
       "      <td>367</td>\n",
       "      <td>1493</td>\n",
       "    </tr>\n",
       "    <tr>\n",
       "      <th>LR_class_weights</th>\n",
       "      <td>0.95297</td>\n",
       "      <td>0.843373</td>\n",
       "      <td>[[99, 38], [143, 770]]</td>\n",
       "      <td>99</td>\n",
       "      <td>38</td>\n",
       "      <td>143</td>\n",
       "      <td>770</td>\n",
       "    </tr>\n",
       "    <tr>\n",
       "      <th>LR_base_prob_thres</th>\n",
       "      <td>0.945727</td>\n",
       "      <td>0.897043</td>\n",
       "      <td>[[90, 47], [94, 819]]</td>\n",
       "      <td>90</td>\n",
       "      <td>47</td>\n",
       "      <td>94</td>\n",
       "      <td>819</td>\n",
       "    </tr>\n",
       "  </tbody>\n",
       "</table>\n",
       "</div>"
      ],
      "text/plain": [
       "                       precision    recall            confusion_matrix    TN  \\\n",
       "LR_base                 0.887365  0.992333       [[22, 115], [7, 906]]    22   \n",
       "RF_base                 0.874038  0.995619        [[6, 131], [4, 909]]     6   \n",
       "XGB_base                0.899092  0.975904      [[37, 100], [22, 891]]    37   \n",
       "LR_base_balanced_data   0.885666  0.837097  [[1589, 201], [303, 1557]]  1589   \n",
       "RF_base_balanced_data   0.901661   0.72957  [[1642, 148], [503, 1357]]  1642   \n",
       "XGB_base_balanced_data  0.879788  0.802688  [[1586, 204], [367, 1493]]  1586   \n",
       "LR_class_weights         0.95297  0.843373      [[99, 38], [143, 770]]    99   \n",
       "LR_base_prob_thres      0.945727  0.897043       [[90, 47], [94, 819]]    90   \n",
       "\n",
       "                         FP   FN    TP  \n",
       "LR_base                 115    7   906  \n",
       "RF_base                 131    4   909  \n",
       "XGB_base                100   22   891  \n",
       "LR_base_balanced_data   201  303  1557  \n",
       "RF_base_balanced_data   148  503  1357  \n",
       "XGB_base_balanced_data  204  367  1493  \n",
       "LR_class_weights         38  143   770  \n",
       "LR_base_prob_thres       47   94   819  "
      ]
     },
     "execution_count": 385,
     "metadata": {},
     "output_type": "execute_result"
    }
   ],
   "source": [
    "results_df"
   ]
  },
  {
   "cell_type": "code",
   "execution_count": null,
   "id": "57d86536",
   "metadata": {},
   "outputs": [],
   "source": []
  }
 ],
 "metadata": {
  "kernelspec": {
   "display_name": "Python 3 (ipykernel)",
   "language": "python",
   "name": "python3"
  },
  "language_info": {
   "codemirror_mode": {
    "name": "ipython",
    "version": 3
   },
   "file_extension": ".py",
   "mimetype": "text/x-python",
   "name": "python",
   "nbconvert_exporter": "python",
   "pygments_lexer": "ipython3",
   "version": "3.8.5"
  }
 },
 "nbformat": 4,
 "nbformat_minor": 5
}
